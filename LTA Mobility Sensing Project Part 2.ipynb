{
  "nbformat": 4,
  "nbformat_minor": 0,
  "metadata": {
    "colab": {
      "name": "LTA Mobility Sensing Project Part 2.ipynb",
      "provenance": [],
      "machine_shape": "hm"
    },
    "kernelspec": {
      "name": "python3",
      "display_name": "Python 3"
    }
  },
  "cells": [
    {
      "cell_type": "markdown",
      "metadata": {
        "id": "r3Takb_hvHF3",
        "colab_type": "text"
      },
      "source": [
        "**LTA Mobility Sensing Project Part 2**\n",
        "\n",
        "- Read in csv files as dataframes\n",
        "\n",
        "- Merge the 3 dataframes and perform initial cleaning phase such as removing duplicates and converting epoch to date and time\n",
        "\n",
        "- We will be working on these 3 sensors data mainly: \n",
        "\n",
        "  1) Accelerometer\n",
        "\n",
        "  2) Gyroscope\n",
        "\n",
        "  3) Magnetometer"
      ]
    },
    {
      "cell_type": "markdown",
      "metadata": {
        "id": "_U1rdQn7uifs",
        "colab_type": "text"
      },
      "source": [
        "Import libraries"
      ]
    },
    {
      "cell_type": "code",
      "metadata": {
        "id": "VrTcy0iruXho",
        "colab_type": "code",
        "colab": {}
      },
      "source": [
        "import pandas as pd\n",
        "import numpy as np"
      ],
      "execution_count": 0,
      "outputs": []
    },
    {
      "cell_type": "markdown",
      "metadata": {
        "id": "PbPOJl7IxE9H",
        "colab_type": "text"
      },
      "source": [
        "Read in the 3 csv files for accelerometer, gyroscope and magnetometer"
      ]
    },
    {
      "cell_type": "code",
      "metadata": {
        "id": "_Ecy-AUMudUX",
        "colab_type": "code",
        "colab": {}
      },
      "source": [
        "acc = pd.read_excel('accelerometer.xlsx', index_col = None)\n",
        "\n",
        "gyro = pd.read_excel('gyroscope.xlsx', index_col = None)\n",
        "\n",
        "mag = pd.read_excel('magnetometer.xlsx', index_col = None)"
      ],
      "execution_count": 0,
      "outputs": []
    },
    {
      "cell_type": "markdown",
      "metadata": {
        "id": "IaEkZzBPzKRd",
        "colab_type": "text"
      },
      "source": [
        "Display all output"
      ]
    },
    {
      "cell_type": "code",
      "metadata": {
        "id": "4507PLU1yxM9",
        "colab_type": "code",
        "colab": {}
      },
      "source": [
        "from IPython.core.interactiveshell import InteractiveShell\n",
        "InteractiveShell.ast_node_interactivity = \"all\""
      ],
      "execution_count": 0,
      "outputs": []
    },
    {
      "cell_type": "markdown",
      "metadata": {
        "id": "Cf3Wn-kzyN_4",
        "colab_type": "text"
      },
      "source": [
        "Accelerometer - Check the datatype, shape and head"
      ]
    },
    {
      "cell_type": "code",
      "metadata": {
        "id": "I3tl_Tj6udXf",
        "colab_type": "code",
        "outputId": "12f7798b-c84c-46c5-8c72-3241ee9598b9",
        "colab": {
          "base_uri": "https://localhost:8080/",
          "height": 52
        }
      },
      "source": [
        "print(type(acc))\n",
        "print(acc.shape)"
      ],
      "execution_count": 0,
      "outputs": [
        {
          "output_type": "stream",
          "text": [
            "<class 'pandas.core.frame.DataFrame'>\n",
            "(196208, 8)\n"
          ],
          "name": "stdout"
        }
      ]
    },
    {
      "cell_type": "code",
      "metadata": {
        "id": "0o77KZGjudad",
        "colab_type": "code",
        "outputId": "0afedd90-3bcc-4877-d660-23cd599fcb72",
        "colab": {
          "base_uri": "https://localhost:8080/",
          "height": 122
        }
      },
      "source": [
        "print(acc.head())"
      ],
      "execution_count": 0,
      "outputs": [
        {
          "output_type": "stream",
          "text": [
            "    JourneyID  Mode      Timestamp         X         Y          Z  lat  lng\n",
            "0  _or9hxk29h  Idle  1574122668022 -0.101370  4.078714   9.324755  NaN  NaN\n",
            "1  _or9hxk29h  Idle  1574122669031  0.168676  0.638103  10.021468  NaN  NaN\n",
            "2  _or9hxk29h  Idle  1574122670034  3.005135  2.451950  13.441220  NaN  NaN\n",
            "3  _or9hxk29h  Idle  1574122671036  4.065824  3.711961  12.759917  NaN  NaN\n",
            "4  _or9hxk29h  Idle  1574122672110  4.574572  2.166216  16.789330  NaN  NaN\n"
          ],
          "name": "stdout"
        }
      ]
    },
    {
      "cell_type": "markdown",
      "metadata": {
        "id": "IDyIxK300NHY",
        "colab_type": "text"
      },
      "source": [
        "Gyroscope - Check the datatype, shape and head"
      ]
    },
    {
      "cell_type": "code",
      "metadata": {
        "id": "JNRkraEauddc",
        "colab_type": "code",
        "outputId": "73bf1220-4ada-4125-f9bc-2b4e5f1d1691",
        "colab": {
          "base_uri": "https://localhost:8080/",
          "height": 52
        }
      },
      "source": [
        "print(type(gyro))\n",
        "print(gyro.shape)"
      ],
      "execution_count": 0,
      "outputs": [
        {
          "output_type": "stream",
          "text": [
            "<class 'pandas.core.frame.DataFrame'>\n",
            "(196306, 8)\n"
          ],
          "name": "stdout"
        }
      ]
    },
    {
      "cell_type": "code",
      "metadata": {
        "id": "Xym47RWrudhj",
        "colab_type": "code",
        "outputId": "f59de6bf-1688-4160-ad26-5730edd10953",
        "colab": {
          "base_uri": "https://localhost:8080/",
          "height": 122
        }
      },
      "source": [
        "print(gyro.head())"
      ],
      "execution_count": 0,
      "outputs": [
        {
          "output_type": "stream",
          "text": [
            "    JourneyID  Mode      Timestamp         X         Y         Z  lat  lng\n",
            "0  _or9hxk29h  Idle  1574122668123 -0.074526  0.357723  0.560006  NaN  NaN\n",
            "1  _or9hxk29h  Idle  1574122669131  0.502515 -0.534455  0.239546  NaN  NaN\n",
            "2  _or9hxk29h  Idle  1574122670134  0.051103  0.033004  0.281068  NaN  NaN\n",
            "3  _or9hxk29h  Idle  1574122671138  1.049746  0.489739  0.331106  NaN  NaN\n",
            "4  _or9hxk29h  Idle  1574122672138  0.932634  0.290650 -0.171409  NaN  NaN\n"
          ],
          "name": "stdout"
        }
      ]
    },
    {
      "cell_type": "markdown",
      "metadata": {
        "id": "571lc08Q03hF",
        "colab_type": "text"
      },
      "source": [
        "Magnetometer - Check the datatype, shape and head"
      ]
    },
    {
      "cell_type": "code",
      "metadata": {
        "id": "fKssCNmEudkd",
        "colab_type": "code",
        "outputId": "8013abcc-af38-49c4-f772-69588e14c23e",
        "colab": {
          "base_uri": "https://localhost:8080/",
          "height": 52
        }
      },
      "source": [
        "print(type(mag))\n",
        "print(mag.shape)"
      ],
      "execution_count": 0,
      "outputs": [
        {
          "output_type": "stream",
          "text": [
            "<class 'pandas.core.frame.DataFrame'>\n",
            "(195913, 8)\n"
          ],
          "name": "stdout"
        }
      ]
    },
    {
      "cell_type": "code",
      "metadata": {
        "id": "ai7CKmX2ud3w",
        "colab_type": "code",
        "outputId": "3c80ad7b-a4f7-4223-98bb-a863177da1dd",
        "colab": {
          "base_uri": "https://localhost:8080/",
          "height": 122
        }
      },
      "source": [
        "print(mag.head())"
      ],
      "execution_count": 0,
      "outputs": [
        {
          "output_type": "stream",
          "text": [
            "    JourneyID  Mode      Timestamp        X        Y       Z  lat  lng\n",
            "0  _or9hxk29h  Idle  1574122668038 -45.3125  18.3125  2.3125  NaN  NaN\n",
            "1  _or9hxk29h  Idle  1574122669039 -31.1250  27.7500 -2.1250  NaN  NaN\n",
            "2  _or9hxk29h  Idle  1574122670043 -18.2500  24.3125 -6.2500  NaN  NaN\n",
            "3  _or9hxk29h  Idle  1574122671047 -15.1250  17.8750 -4.3125  NaN  NaN\n",
            "4  _or9hxk29h  Idle  1574122672116  -6.9375  20.5625 -7.6875  NaN  NaN\n"
          ],
          "name": "stdout"
        }
      ]
    },
    {
      "cell_type": "markdown",
      "metadata": {
        "id": "iJyCr_vK1FkO",
        "colab_type": "text"
      },
      "source": [
        "Remove lat and lng columns for all 3 dataframes as we will work with location separately"
      ]
    },
    {
      "cell_type": "code",
      "metadata": {
        "id": "JhzdftvBud5H",
        "colab_type": "code",
        "colab": {}
      },
      "source": [
        "acc.drop(['lat', 'lng'], axis = 1, inplace = True)\n",
        "gyro.drop(['lat', 'lng'], axis = 1, inplace = True)\n",
        "mag.drop(['lat', 'lng'], axis = 1, inplace = True)"
      ],
      "execution_count": 0,
      "outputs": []
    },
    {
      "cell_type": "markdown",
      "metadata": {
        "id": "q-m29SH21lQn",
        "colab_type": "text"
      },
      "source": [
        "Check that the columns have been removed"
      ]
    },
    {
      "cell_type": "code",
      "metadata": {
        "id": "97Z3bfetudgf",
        "colab_type": "code",
        "outputId": "cbc4a18b-93f6-4d33-ec8b-904c4878239b",
        "colab": {
          "base_uri": "https://localhost:8080/",
          "height": 552
        }
      },
      "source": [
        "acc.head()\n",
        "gyro.head()\n",
        "mag.head()"
      ],
      "execution_count": 0,
      "outputs": [
        {
          "output_type": "execute_result",
          "data": {
            "text/html": [
              "<div>\n",
              "<style scoped>\n",
              "    .dataframe tbody tr th:only-of-type {\n",
              "        vertical-align: middle;\n",
              "    }\n",
              "\n",
              "    .dataframe tbody tr th {\n",
              "        vertical-align: top;\n",
              "    }\n",
              "\n",
              "    .dataframe thead th {\n",
              "        text-align: right;\n",
              "    }\n",
              "</style>\n",
              "<table border=\"1\" class=\"dataframe\">\n",
              "  <thead>\n",
              "    <tr style=\"text-align: right;\">\n",
              "      <th></th>\n",
              "      <th>JourneyID</th>\n",
              "      <th>Mode</th>\n",
              "      <th>Timestamp</th>\n",
              "      <th>X</th>\n",
              "      <th>Y</th>\n",
              "      <th>Z</th>\n",
              "    </tr>\n",
              "  </thead>\n",
              "  <tbody>\n",
              "    <tr>\n",
              "      <th>0</th>\n",
              "      <td>_or9hxk29h</td>\n",
              "      <td>Idle</td>\n",
              "      <td>1574122668022</td>\n",
              "      <td>-0.101370</td>\n",
              "      <td>4.078714</td>\n",
              "      <td>9.324755</td>\n",
              "    </tr>\n",
              "    <tr>\n",
              "      <th>1</th>\n",
              "      <td>_or9hxk29h</td>\n",
              "      <td>Idle</td>\n",
              "      <td>1574122669031</td>\n",
              "      <td>0.168676</td>\n",
              "      <td>0.638103</td>\n",
              "      <td>10.021468</td>\n",
              "    </tr>\n",
              "    <tr>\n",
              "      <th>2</th>\n",
              "      <td>_or9hxk29h</td>\n",
              "      <td>Idle</td>\n",
              "      <td>1574122670034</td>\n",
              "      <td>3.005135</td>\n",
              "      <td>2.451950</td>\n",
              "      <td>13.441220</td>\n",
              "    </tr>\n",
              "    <tr>\n",
              "      <th>3</th>\n",
              "      <td>_or9hxk29h</td>\n",
              "      <td>Idle</td>\n",
              "      <td>1574122671036</td>\n",
              "      <td>4.065824</td>\n",
              "      <td>3.711961</td>\n",
              "      <td>12.759917</td>\n",
              "    </tr>\n",
              "    <tr>\n",
              "      <th>4</th>\n",
              "      <td>_or9hxk29h</td>\n",
              "      <td>Idle</td>\n",
              "      <td>1574122672110</td>\n",
              "      <td>4.574572</td>\n",
              "      <td>2.166216</td>\n",
              "      <td>16.789330</td>\n",
              "    </tr>\n",
              "  </tbody>\n",
              "</table>\n",
              "</div>"
            ],
            "text/plain": [
              "    JourneyID  Mode      Timestamp         X         Y          Z\n",
              "0  _or9hxk29h  Idle  1574122668022 -0.101370  4.078714   9.324755\n",
              "1  _or9hxk29h  Idle  1574122669031  0.168676  0.638103  10.021468\n",
              "2  _or9hxk29h  Idle  1574122670034  3.005135  2.451950  13.441220\n",
              "3  _or9hxk29h  Idle  1574122671036  4.065824  3.711961  12.759917\n",
              "4  _or9hxk29h  Idle  1574122672110  4.574572  2.166216  16.789330"
            ]
          },
          "metadata": {
            "tags": []
          },
          "execution_count": 85
        },
        {
          "output_type": "execute_result",
          "data": {
            "text/html": [
              "<div>\n",
              "<style scoped>\n",
              "    .dataframe tbody tr th:only-of-type {\n",
              "        vertical-align: middle;\n",
              "    }\n",
              "\n",
              "    .dataframe tbody tr th {\n",
              "        vertical-align: top;\n",
              "    }\n",
              "\n",
              "    .dataframe thead th {\n",
              "        text-align: right;\n",
              "    }\n",
              "</style>\n",
              "<table border=\"1\" class=\"dataframe\">\n",
              "  <thead>\n",
              "    <tr style=\"text-align: right;\">\n",
              "      <th></th>\n",
              "      <th>JourneyID</th>\n",
              "      <th>Mode</th>\n",
              "      <th>Timestamp</th>\n",
              "      <th>X</th>\n",
              "      <th>Y</th>\n",
              "      <th>Z</th>\n",
              "    </tr>\n",
              "  </thead>\n",
              "  <tbody>\n",
              "    <tr>\n",
              "      <th>0</th>\n",
              "      <td>_or9hxk29h</td>\n",
              "      <td>Idle</td>\n",
              "      <td>1574122668123</td>\n",
              "      <td>-0.074526</td>\n",
              "      <td>0.357723</td>\n",
              "      <td>0.560006</td>\n",
              "    </tr>\n",
              "    <tr>\n",
              "      <th>1</th>\n",
              "      <td>_or9hxk29h</td>\n",
              "      <td>Idle</td>\n",
              "      <td>1574122669131</td>\n",
              "      <td>0.502515</td>\n",
              "      <td>-0.534455</td>\n",
              "      <td>0.239546</td>\n",
              "    </tr>\n",
              "    <tr>\n",
              "      <th>2</th>\n",
              "      <td>_or9hxk29h</td>\n",
              "      <td>Idle</td>\n",
              "      <td>1574122670134</td>\n",
              "      <td>0.051103</td>\n",
              "      <td>0.033004</td>\n",
              "      <td>0.281068</td>\n",
              "    </tr>\n",
              "    <tr>\n",
              "      <th>3</th>\n",
              "      <td>_or9hxk29h</td>\n",
              "      <td>Idle</td>\n",
              "      <td>1574122671138</td>\n",
              "      <td>1.049746</td>\n",
              "      <td>0.489739</td>\n",
              "      <td>0.331106</td>\n",
              "    </tr>\n",
              "    <tr>\n",
              "      <th>4</th>\n",
              "      <td>_or9hxk29h</td>\n",
              "      <td>Idle</td>\n",
              "      <td>1574122672138</td>\n",
              "      <td>0.932634</td>\n",
              "      <td>0.290650</td>\n",
              "      <td>-0.171409</td>\n",
              "    </tr>\n",
              "  </tbody>\n",
              "</table>\n",
              "</div>"
            ],
            "text/plain": [
              "    JourneyID  Mode      Timestamp         X         Y         Z\n",
              "0  _or9hxk29h  Idle  1574122668123 -0.074526  0.357723  0.560006\n",
              "1  _or9hxk29h  Idle  1574122669131  0.502515 -0.534455  0.239546\n",
              "2  _or9hxk29h  Idle  1574122670134  0.051103  0.033004  0.281068\n",
              "3  _or9hxk29h  Idle  1574122671138  1.049746  0.489739  0.331106\n",
              "4  _or9hxk29h  Idle  1574122672138  0.932634  0.290650 -0.171409"
            ]
          },
          "metadata": {
            "tags": []
          },
          "execution_count": 85
        },
        {
          "output_type": "execute_result",
          "data": {
            "text/html": [
              "<div>\n",
              "<style scoped>\n",
              "    .dataframe tbody tr th:only-of-type {\n",
              "        vertical-align: middle;\n",
              "    }\n",
              "\n",
              "    .dataframe tbody tr th {\n",
              "        vertical-align: top;\n",
              "    }\n",
              "\n",
              "    .dataframe thead th {\n",
              "        text-align: right;\n",
              "    }\n",
              "</style>\n",
              "<table border=\"1\" class=\"dataframe\">\n",
              "  <thead>\n",
              "    <tr style=\"text-align: right;\">\n",
              "      <th></th>\n",
              "      <th>JourneyID</th>\n",
              "      <th>Mode</th>\n",
              "      <th>Timestamp</th>\n",
              "      <th>X</th>\n",
              "      <th>Y</th>\n",
              "      <th>Z</th>\n",
              "    </tr>\n",
              "  </thead>\n",
              "  <tbody>\n",
              "    <tr>\n",
              "      <th>0</th>\n",
              "      <td>_or9hxk29h</td>\n",
              "      <td>Idle</td>\n",
              "      <td>1574122668038</td>\n",
              "      <td>-45.3125</td>\n",
              "      <td>18.3125</td>\n",
              "      <td>2.3125</td>\n",
              "    </tr>\n",
              "    <tr>\n",
              "      <th>1</th>\n",
              "      <td>_or9hxk29h</td>\n",
              "      <td>Idle</td>\n",
              "      <td>1574122669039</td>\n",
              "      <td>-31.1250</td>\n",
              "      <td>27.7500</td>\n",
              "      <td>-2.1250</td>\n",
              "    </tr>\n",
              "    <tr>\n",
              "      <th>2</th>\n",
              "      <td>_or9hxk29h</td>\n",
              "      <td>Idle</td>\n",
              "      <td>1574122670043</td>\n",
              "      <td>-18.2500</td>\n",
              "      <td>24.3125</td>\n",
              "      <td>-6.2500</td>\n",
              "    </tr>\n",
              "    <tr>\n",
              "      <th>3</th>\n",
              "      <td>_or9hxk29h</td>\n",
              "      <td>Idle</td>\n",
              "      <td>1574122671047</td>\n",
              "      <td>-15.1250</td>\n",
              "      <td>17.8750</td>\n",
              "      <td>-4.3125</td>\n",
              "    </tr>\n",
              "    <tr>\n",
              "      <th>4</th>\n",
              "      <td>_or9hxk29h</td>\n",
              "      <td>Idle</td>\n",
              "      <td>1574122672116</td>\n",
              "      <td>-6.9375</td>\n",
              "      <td>20.5625</td>\n",
              "      <td>-7.6875</td>\n",
              "    </tr>\n",
              "  </tbody>\n",
              "</table>\n",
              "</div>"
            ],
            "text/plain": [
              "    JourneyID  Mode      Timestamp        X        Y       Z\n",
              "0  _or9hxk29h  Idle  1574122668038 -45.3125  18.3125  2.3125\n",
              "1  _or9hxk29h  Idle  1574122669039 -31.1250  27.7500 -2.1250\n",
              "2  _or9hxk29h  Idle  1574122670043 -18.2500  24.3125 -6.2500\n",
              "3  _or9hxk29h  Idle  1574122671047 -15.1250  17.8750 -4.3125\n",
              "4  _or9hxk29h  Idle  1574122672116  -6.9375  20.5625 -7.6875"
            ]
          },
          "metadata": {
            "tags": []
          },
          "execution_count": 85
        }
      ]
    },
    {
      "cell_type": "markdown",
      "metadata": {
        "id": "5Y12RVxY2DNP",
        "colab_type": "text"
      },
      "source": [
        "Check for NAs\n",
        "\n",
        "All 3 dataframes have 0 NAs for now\n",
        "\n",
        "After processing the features later on in the project, Inf/NaN may appear."
      ]
    },
    {
      "cell_type": "code",
      "metadata": {
        "id": "jq27BCW61_VS",
        "colab_type": "code",
        "outputId": "c45df10d-80b9-4e71-921a-6993153b40c4",
        "colab": {
          "base_uri": "https://localhost:8080/",
          "height": 140
        }
      },
      "source": [
        "acc.isna().sum()"
      ],
      "execution_count": 0,
      "outputs": [
        {
          "output_type": "execute_result",
          "data": {
            "text/plain": [
              "JourneyID    0\n",
              "Mode         0\n",
              "Timestamp    0\n",
              "X            0\n",
              "Y            0\n",
              "Z            0\n",
              "dtype: int64"
            ]
          },
          "metadata": {
            "tags": []
          },
          "execution_count": 86
        }
      ]
    },
    {
      "cell_type": "code",
      "metadata": {
        "id": "eZXt_B5H1_YP",
        "colab_type": "code",
        "outputId": "10054ba2-71b3-47bd-c958-e1bddbe3708e",
        "colab": {
          "base_uri": "https://localhost:8080/",
          "height": 140
        }
      },
      "source": [
        "gyro.isna().sum()"
      ],
      "execution_count": 0,
      "outputs": [
        {
          "output_type": "execute_result",
          "data": {
            "text/plain": [
              "JourneyID    0\n",
              "Mode         0\n",
              "Timestamp    0\n",
              "X            0\n",
              "Y            0\n",
              "Z            0\n",
              "dtype: int64"
            ]
          },
          "metadata": {
            "tags": []
          },
          "execution_count": 87
        }
      ]
    },
    {
      "cell_type": "code",
      "metadata": {
        "id": "0g-Aaazl1_ea",
        "colab_type": "code",
        "outputId": "7fee6b83-0659-493d-8813-139aed0a3243",
        "colab": {
          "base_uri": "https://localhost:8080/",
          "height": 140
        }
      },
      "source": [
        "mag.isna().sum()"
      ],
      "execution_count": 0,
      "outputs": [
        {
          "output_type": "execute_result",
          "data": {
            "text/plain": [
              "JourneyID    0\n",
              "Mode         0\n",
              "Timestamp    0\n",
              "X            0\n",
              "Y            0\n",
              "Z            0\n",
              "dtype: int64"
            ]
          },
          "metadata": {
            "tags": []
          },
          "execution_count": 88
        }
      ]
    },
    {
      "cell_type": "markdown",
      "metadata": {
        "id": "YZmMK8t-2wxj",
        "colab_type": "text"
      },
      "source": [
        "Rename the X,Y,Z columns by appending the sensor name in front of the column"
      ]
    },
    {
      "cell_type": "code",
      "metadata": {
        "id": "KlCuQUFt1_gq",
        "colab_type": "code",
        "colab": {}
      },
      "source": [
        "acc.rename(columns={\"X\": \"acc_X\", \"Y\": \"acc_Y\", \"Z\": \"acc_Z\"}, inplace = True)"
      ],
      "execution_count": 0,
      "outputs": []
    },
    {
      "cell_type": "code",
      "metadata": {
        "id": "IaUjgsCz1_lb",
        "colab_type": "code",
        "outputId": "ae3881e7-da12-4497-cf6e-43fe47fad7b3",
        "colab": {
          "base_uri": "https://localhost:8080/",
          "height": 195
        }
      },
      "source": [
        "acc.head()"
      ],
      "execution_count": 0,
      "outputs": [
        {
          "output_type": "execute_result",
          "data": {
            "text/html": [
              "<div>\n",
              "<style scoped>\n",
              "    .dataframe tbody tr th:only-of-type {\n",
              "        vertical-align: middle;\n",
              "    }\n",
              "\n",
              "    .dataframe tbody tr th {\n",
              "        vertical-align: top;\n",
              "    }\n",
              "\n",
              "    .dataframe thead th {\n",
              "        text-align: right;\n",
              "    }\n",
              "</style>\n",
              "<table border=\"1\" class=\"dataframe\">\n",
              "  <thead>\n",
              "    <tr style=\"text-align: right;\">\n",
              "      <th></th>\n",
              "      <th>JourneyID</th>\n",
              "      <th>Mode</th>\n",
              "      <th>Timestamp</th>\n",
              "      <th>acc_X</th>\n",
              "      <th>acc_Y</th>\n",
              "      <th>acc_Z</th>\n",
              "    </tr>\n",
              "  </thead>\n",
              "  <tbody>\n",
              "    <tr>\n",
              "      <th>0</th>\n",
              "      <td>_or9hxk29h</td>\n",
              "      <td>Idle</td>\n",
              "      <td>1574122668022</td>\n",
              "      <td>-0.101370</td>\n",
              "      <td>4.078714</td>\n",
              "      <td>9.324755</td>\n",
              "    </tr>\n",
              "    <tr>\n",
              "      <th>1</th>\n",
              "      <td>_or9hxk29h</td>\n",
              "      <td>Idle</td>\n",
              "      <td>1574122669031</td>\n",
              "      <td>0.168676</td>\n",
              "      <td>0.638103</td>\n",
              "      <td>10.021468</td>\n",
              "    </tr>\n",
              "    <tr>\n",
              "      <th>2</th>\n",
              "      <td>_or9hxk29h</td>\n",
              "      <td>Idle</td>\n",
              "      <td>1574122670034</td>\n",
              "      <td>3.005135</td>\n",
              "      <td>2.451950</td>\n",
              "      <td>13.441220</td>\n",
              "    </tr>\n",
              "    <tr>\n",
              "      <th>3</th>\n",
              "      <td>_or9hxk29h</td>\n",
              "      <td>Idle</td>\n",
              "      <td>1574122671036</td>\n",
              "      <td>4.065824</td>\n",
              "      <td>3.711961</td>\n",
              "      <td>12.759917</td>\n",
              "    </tr>\n",
              "    <tr>\n",
              "      <th>4</th>\n",
              "      <td>_or9hxk29h</td>\n",
              "      <td>Idle</td>\n",
              "      <td>1574122672110</td>\n",
              "      <td>4.574572</td>\n",
              "      <td>2.166216</td>\n",
              "      <td>16.789330</td>\n",
              "    </tr>\n",
              "  </tbody>\n",
              "</table>\n",
              "</div>"
            ],
            "text/plain": [
              "    JourneyID  Mode      Timestamp     acc_X     acc_Y      acc_Z\n",
              "0  _or9hxk29h  Idle  1574122668022 -0.101370  4.078714   9.324755\n",
              "1  _or9hxk29h  Idle  1574122669031  0.168676  0.638103  10.021468\n",
              "2  _or9hxk29h  Idle  1574122670034  3.005135  2.451950  13.441220\n",
              "3  _or9hxk29h  Idle  1574122671036  4.065824  3.711961  12.759917\n",
              "4  _or9hxk29h  Idle  1574122672110  4.574572  2.166216  16.789330"
            ]
          },
          "metadata": {
            "tags": []
          },
          "execution_count": 90
        }
      ]
    },
    {
      "cell_type": "code",
      "metadata": {
        "id": "nljN0mIA1_oj",
        "colab_type": "code",
        "colab": {}
      },
      "source": [
        "gyro.rename(columns={\"X\": \"gyro_X\", \"Y\": \"gyro_Y\", \"Z\": \"gyro_Z\"}, inplace = True)"
      ],
      "execution_count": 0,
      "outputs": []
    },
    {
      "cell_type": "code",
      "metadata": {
        "id": "Up9qTHzs1_rL",
        "colab_type": "code",
        "outputId": "9a038f72-1421-40de-9231-12b72f2c6af7",
        "colab": {
          "base_uri": "https://localhost:8080/",
          "height": 195
        }
      },
      "source": [
        "gyro.head()"
      ],
      "execution_count": 0,
      "outputs": [
        {
          "output_type": "execute_result",
          "data": {
            "text/html": [
              "<div>\n",
              "<style scoped>\n",
              "    .dataframe tbody tr th:only-of-type {\n",
              "        vertical-align: middle;\n",
              "    }\n",
              "\n",
              "    .dataframe tbody tr th {\n",
              "        vertical-align: top;\n",
              "    }\n",
              "\n",
              "    .dataframe thead th {\n",
              "        text-align: right;\n",
              "    }\n",
              "</style>\n",
              "<table border=\"1\" class=\"dataframe\">\n",
              "  <thead>\n",
              "    <tr style=\"text-align: right;\">\n",
              "      <th></th>\n",
              "      <th>JourneyID</th>\n",
              "      <th>Mode</th>\n",
              "      <th>Timestamp</th>\n",
              "      <th>gyro_X</th>\n",
              "      <th>gyro_Y</th>\n",
              "      <th>gyro_Z</th>\n",
              "    </tr>\n",
              "  </thead>\n",
              "  <tbody>\n",
              "    <tr>\n",
              "      <th>0</th>\n",
              "      <td>_or9hxk29h</td>\n",
              "      <td>Idle</td>\n",
              "      <td>1574122668123</td>\n",
              "      <td>-0.074526</td>\n",
              "      <td>0.357723</td>\n",
              "      <td>0.560006</td>\n",
              "    </tr>\n",
              "    <tr>\n",
              "      <th>1</th>\n",
              "      <td>_or9hxk29h</td>\n",
              "      <td>Idle</td>\n",
              "      <td>1574122669131</td>\n",
              "      <td>0.502515</td>\n",
              "      <td>-0.534455</td>\n",
              "      <td>0.239546</td>\n",
              "    </tr>\n",
              "    <tr>\n",
              "      <th>2</th>\n",
              "      <td>_or9hxk29h</td>\n",
              "      <td>Idle</td>\n",
              "      <td>1574122670134</td>\n",
              "      <td>0.051103</td>\n",
              "      <td>0.033004</td>\n",
              "      <td>0.281068</td>\n",
              "    </tr>\n",
              "    <tr>\n",
              "      <th>3</th>\n",
              "      <td>_or9hxk29h</td>\n",
              "      <td>Idle</td>\n",
              "      <td>1574122671138</td>\n",
              "      <td>1.049746</td>\n",
              "      <td>0.489739</td>\n",
              "      <td>0.331106</td>\n",
              "    </tr>\n",
              "    <tr>\n",
              "      <th>4</th>\n",
              "      <td>_or9hxk29h</td>\n",
              "      <td>Idle</td>\n",
              "      <td>1574122672138</td>\n",
              "      <td>0.932634</td>\n",
              "      <td>0.290650</td>\n",
              "      <td>-0.171409</td>\n",
              "    </tr>\n",
              "  </tbody>\n",
              "</table>\n",
              "</div>"
            ],
            "text/plain": [
              "    JourneyID  Mode      Timestamp    gyro_X    gyro_Y    gyro_Z\n",
              "0  _or9hxk29h  Idle  1574122668123 -0.074526  0.357723  0.560006\n",
              "1  _or9hxk29h  Idle  1574122669131  0.502515 -0.534455  0.239546\n",
              "2  _or9hxk29h  Idle  1574122670134  0.051103  0.033004  0.281068\n",
              "3  _or9hxk29h  Idle  1574122671138  1.049746  0.489739  0.331106\n",
              "4  _or9hxk29h  Idle  1574122672138  0.932634  0.290650 -0.171409"
            ]
          },
          "metadata": {
            "tags": []
          },
          "execution_count": 92
        }
      ]
    },
    {
      "cell_type": "code",
      "metadata": {
        "id": "TyaItn4I1_uE",
        "colab_type": "code",
        "colab": {}
      },
      "source": [
        "mag.rename(columns={\"X\": \"mag_X\", \"Y\": \"mag_Y\", \"Z\": \"mag_Z\"}, inplace = True)"
      ],
      "execution_count": 0,
      "outputs": []
    },
    {
      "cell_type": "code",
      "metadata": {
        "id": "IL988Cgx1_wy",
        "colab_type": "code",
        "outputId": "782baafe-4641-4f38-f2e2-12bfefdcfbe5",
        "colab": {
          "base_uri": "https://localhost:8080/",
          "height": 195
        }
      },
      "source": [
        "mag.head()"
      ],
      "execution_count": 0,
      "outputs": [
        {
          "output_type": "execute_result",
          "data": {
            "text/html": [
              "<div>\n",
              "<style scoped>\n",
              "    .dataframe tbody tr th:only-of-type {\n",
              "        vertical-align: middle;\n",
              "    }\n",
              "\n",
              "    .dataframe tbody tr th {\n",
              "        vertical-align: top;\n",
              "    }\n",
              "\n",
              "    .dataframe thead th {\n",
              "        text-align: right;\n",
              "    }\n",
              "</style>\n",
              "<table border=\"1\" class=\"dataframe\">\n",
              "  <thead>\n",
              "    <tr style=\"text-align: right;\">\n",
              "      <th></th>\n",
              "      <th>JourneyID</th>\n",
              "      <th>Mode</th>\n",
              "      <th>Timestamp</th>\n",
              "      <th>mag_X</th>\n",
              "      <th>mag_Y</th>\n",
              "      <th>mag_Z</th>\n",
              "    </tr>\n",
              "  </thead>\n",
              "  <tbody>\n",
              "    <tr>\n",
              "      <th>0</th>\n",
              "      <td>_or9hxk29h</td>\n",
              "      <td>Idle</td>\n",
              "      <td>1574122668038</td>\n",
              "      <td>-45.3125</td>\n",
              "      <td>18.3125</td>\n",
              "      <td>2.3125</td>\n",
              "    </tr>\n",
              "    <tr>\n",
              "      <th>1</th>\n",
              "      <td>_or9hxk29h</td>\n",
              "      <td>Idle</td>\n",
              "      <td>1574122669039</td>\n",
              "      <td>-31.1250</td>\n",
              "      <td>27.7500</td>\n",
              "      <td>-2.1250</td>\n",
              "    </tr>\n",
              "    <tr>\n",
              "      <th>2</th>\n",
              "      <td>_or9hxk29h</td>\n",
              "      <td>Idle</td>\n",
              "      <td>1574122670043</td>\n",
              "      <td>-18.2500</td>\n",
              "      <td>24.3125</td>\n",
              "      <td>-6.2500</td>\n",
              "    </tr>\n",
              "    <tr>\n",
              "      <th>3</th>\n",
              "      <td>_or9hxk29h</td>\n",
              "      <td>Idle</td>\n",
              "      <td>1574122671047</td>\n",
              "      <td>-15.1250</td>\n",
              "      <td>17.8750</td>\n",
              "      <td>-4.3125</td>\n",
              "    </tr>\n",
              "    <tr>\n",
              "      <th>4</th>\n",
              "      <td>_or9hxk29h</td>\n",
              "      <td>Idle</td>\n",
              "      <td>1574122672116</td>\n",
              "      <td>-6.9375</td>\n",
              "      <td>20.5625</td>\n",
              "      <td>-7.6875</td>\n",
              "    </tr>\n",
              "  </tbody>\n",
              "</table>\n",
              "</div>"
            ],
            "text/plain": [
              "    JourneyID  Mode      Timestamp    mag_X    mag_Y   mag_Z\n",
              "0  _or9hxk29h  Idle  1574122668038 -45.3125  18.3125  2.3125\n",
              "1  _or9hxk29h  Idle  1574122669039 -31.1250  27.7500 -2.1250\n",
              "2  _or9hxk29h  Idle  1574122670043 -18.2500  24.3125 -6.2500\n",
              "3  _or9hxk29h  Idle  1574122671047 -15.1250  17.8750 -4.3125\n",
              "4  _or9hxk29h  Idle  1574122672116  -6.9375  20.5625 -7.6875"
            ]
          },
          "metadata": {
            "tags": []
          },
          "execution_count": 94
        }
      ]
    },
    {
      "cell_type": "markdown",
      "metadata": {
        "id": "78fMxoZe3te7",
        "colab_type": "text"
      },
      "source": [
        "Convert timestamps"
      ]
    },
    {
      "cell_type": "code",
      "metadata": {
        "id": "RYEm2XhJ4kko",
        "colab_type": "code",
        "colab": {}
      },
      "source": [
        "from datetime import datetime"
      ],
      "execution_count": 0,
      "outputs": []
    },
    {
      "cell_type": "code",
      "metadata": {
        "id": "CsIUxjw41_zg",
        "colab_type": "code",
        "colab": {}
      },
      "source": [
        "acc['Timestamps'] = acc['Timestamp'].astype(float)/1000\n",
        "acc['Time'] = acc['Timestamps'].apply(datetime.fromtimestamp)\n",
        "acc['Time'] = acc['Time'].dt.strftime(\"%Y-%m-%d %H:%M:%S\")\n",
        "acc.drop(['Timestamps'], axis=1, inplace=True)"
      ],
      "execution_count": 0,
      "outputs": []
    },
    {
      "cell_type": "code",
      "metadata": {
        "id": "JlXVQcOo4jXE",
        "colab_type": "code",
        "outputId": "4e3e76e3-16c1-4d69-f5e8-2c5bb467f2ea",
        "colab": {
          "base_uri": "https://localhost:8080/",
          "height": 195
        }
      },
      "source": [
        "acc.head()"
      ],
      "execution_count": 0,
      "outputs": [
        {
          "output_type": "execute_result",
          "data": {
            "text/html": [
              "<div>\n",
              "<style scoped>\n",
              "    .dataframe tbody tr th:only-of-type {\n",
              "        vertical-align: middle;\n",
              "    }\n",
              "\n",
              "    .dataframe tbody tr th {\n",
              "        vertical-align: top;\n",
              "    }\n",
              "\n",
              "    .dataframe thead th {\n",
              "        text-align: right;\n",
              "    }\n",
              "</style>\n",
              "<table border=\"1\" class=\"dataframe\">\n",
              "  <thead>\n",
              "    <tr style=\"text-align: right;\">\n",
              "      <th></th>\n",
              "      <th>JourneyID</th>\n",
              "      <th>Mode</th>\n",
              "      <th>Timestamp</th>\n",
              "      <th>acc_X</th>\n",
              "      <th>acc_Y</th>\n",
              "      <th>acc_Z</th>\n",
              "      <th>Time</th>\n",
              "    </tr>\n",
              "  </thead>\n",
              "  <tbody>\n",
              "    <tr>\n",
              "      <th>0</th>\n",
              "      <td>_or9hxk29h</td>\n",
              "      <td>Idle</td>\n",
              "      <td>1574122668022</td>\n",
              "      <td>-0.101370</td>\n",
              "      <td>4.078714</td>\n",
              "      <td>9.324755</td>\n",
              "      <td>2019-11-19 00:17:48</td>\n",
              "    </tr>\n",
              "    <tr>\n",
              "      <th>1</th>\n",
              "      <td>_or9hxk29h</td>\n",
              "      <td>Idle</td>\n",
              "      <td>1574122669031</td>\n",
              "      <td>0.168676</td>\n",
              "      <td>0.638103</td>\n",
              "      <td>10.021468</td>\n",
              "      <td>2019-11-19 00:17:49</td>\n",
              "    </tr>\n",
              "    <tr>\n",
              "      <th>2</th>\n",
              "      <td>_or9hxk29h</td>\n",
              "      <td>Idle</td>\n",
              "      <td>1574122670034</td>\n",
              "      <td>3.005135</td>\n",
              "      <td>2.451950</td>\n",
              "      <td>13.441220</td>\n",
              "      <td>2019-11-19 00:17:50</td>\n",
              "    </tr>\n",
              "    <tr>\n",
              "      <th>3</th>\n",
              "      <td>_or9hxk29h</td>\n",
              "      <td>Idle</td>\n",
              "      <td>1574122671036</td>\n",
              "      <td>4.065824</td>\n",
              "      <td>3.711961</td>\n",
              "      <td>12.759917</td>\n",
              "      <td>2019-11-19 00:17:51</td>\n",
              "    </tr>\n",
              "    <tr>\n",
              "      <th>4</th>\n",
              "      <td>_or9hxk29h</td>\n",
              "      <td>Idle</td>\n",
              "      <td>1574122672110</td>\n",
              "      <td>4.574572</td>\n",
              "      <td>2.166216</td>\n",
              "      <td>16.789330</td>\n",
              "      <td>2019-11-19 00:17:52</td>\n",
              "    </tr>\n",
              "  </tbody>\n",
              "</table>\n",
              "</div>"
            ],
            "text/plain": [
              "    JourneyID  Mode      Timestamp  ...     acc_Y      acc_Z                 Time\n",
              "0  _or9hxk29h  Idle  1574122668022  ...  4.078714   9.324755  2019-11-19 00:17:48\n",
              "1  _or9hxk29h  Idle  1574122669031  ...  0.638103  10.021468  2019-11-19 00:17:49\n",
              "2  _or9hxk29h  Idle  1574122670034  ...  2.451950  13.441220  2019-11-19 00:17:50\n",
              "3  _or9hxk29h  Idle  1574122671036  ...  3.711961  12.759917  2019-11-19 00:17:51\n",
              "4  _or9hxk29h  Idle  1574122672110  ...  2.166216  16.789330  2019-11-19 00:17:52\n",
              "\n",
              "[5 rows x 7 columns]"
            ]
          },
          "metadata": {
            "tags": []
          },
          "execution_count": 97
        }
      ]
    },
    {
      "cell_type": "code",
      "metadata": {
        "id": "PfQSVx2S1_2P",
        "colab_type": "code",
        "colab": {}
      },
      "source": [
        "gyro['Timestamps'] = gyro['Timestamp'].astype(float)/1000\n",
        "gyro['Time'] = gyro['Timestamps'].apply(datetime.fromtimestamp)\n",
        "gyro['Time'] = gyro['Time'].dt.strftime(\"%Y-%m-%d %H:%M:%S\")\n",
        "gyro.drop(['Timestamps'], axis=1, inplace=True)"
      ],
      "execution_count": 0,
      "outputs": []
    },
    {
      "cell_type": "code",
      "metadata": {
        "id": "yiSqQ9Zy1_7P",
        "colab_type": "code",
        "outputId": "2b68f0cb-19a4-47e2-b26f-fbe5135b2ded",
        "colab": {
          "base_uri": "https://localhost:8080/",
          "height": 195
        }
      },
      "source": [
        "gyro.head()"
      ],
      "execution_count": 0,
      "outputs": [
        {
          "output_type": "execute_result",
          "data": {
            "text/html": [
              "<div>\n",
              "<style scoped>\n",
              "    .dataframe tbody tr th:only-of-type {\n",
              "        vertical-align: middle;\n",
              "    }\n",
              "\n",
              "    .dataframe tbody tr th {\n",
              "        vertical-align: top;\n",
              "    }\n",
              "\n",
              "    .dataframe thead th {\n",
              "        text-align: right;\n",
              "    }\n",
              "</style>\n",
              "<table border=\"1\" class=\"dataframe\">\n",
              "  <thead>\n",
              "    <tr style=\"text-align: right;\">\n",
              "      <th></th>\n",
              "      <th>JourneyID</th>\n",
              "      <th>Mode</th>\n",
              "      <th>Timestamp</th>\n",
              "      <th>gyro_X</th>\n",
              "      <th>gyro_Y</th>\n",
              "      <th>gyro_Z</th>\n",
              "      <th>Time</th>\n",
              "    </tr>\n",
              "  </thead>\n",
              "  <tbody>\n",
              "    <tr>\n",
              "      <th>0</th>\n",
              "      <td>_or9hxk29h</td>\n",
              "      <td>Idle</td>\n",
              "      <td>1574122668123</td>\n",
              "      <td>-0.074526</td>\n",
              "      <td>0.357723</td>\n",
              "      <td>0.560006</td>\n",
              "      <td>2019-11-19 00:17:48</td>\n",
              "    </tr>\n",
              "    <tr>\n",
              "      <th>1</th>\n",
              "      <td>_or9hxk29h</td>\n",
              "      <td>Idle</td>\n",
              "      <td>1574122669131</td>\n",
              "      <td>0.502515</td>\n",
              "      <td>-0.534455</td>\n",
              "      <td>0.239546</td>\n",
              "      <td>2019-11-19 00:17:49</td>\n",
              "    </tr>\n",
              "    <tr>\n",
              "      <th>2</th>\n",
              "      <td>_or9hxk29h</td>\n",
              "      <td>Idle</td>\n",
              "      <td>1574122670134</td>\n",
              "      <td>0.051103</td>\n",
              "      <td>0.033004</td>\n",
              "      <td>0.281068</td>\n",
              "      <td>2019-11-19 00:17:50</td>\n",
              "    </tr>\n",
              "    <tr>\n",
              "      <th>3</th>\n",
              "      <td>_or9hxk29h</td>\n",
              "      <td>Idle</td>\n",
              "      <td>1574122671138</td>\n",
              "      <td>1.049746</td>\n",
              "      <td>0.489739</td>\n",
              "      <td>0.331106</td>\n",
              "      <td>2019-11-19 00:17:51</td>\n",
              "    </tr>\n",
              "    <tr>\n",
              "      <th>4</th>\n",
              "      <td>_or9hxk29h</td>\n",
              "      <td>Idle</td>\n",
              "      <td>1574122672138</td>\n",
              "      <td>0.932634</td>\n",
              "      <td>0.290650</td>\n",
              "      <td>-0.171409</td>\n",
              "      <td>2019-11-19 00:17:52</td>\n",
              "    </tr>\n",
              "  </tbody>\n",
              "</table>\n",
              "</div>"
            ],
            "text/plain": [
              "    JourneyID  Mode      Timestamp  ...    gyro_Y    gyro_Z                 Time\n",
              "0  _or9hxk29h  Idle  1574122668123  ...  0.357723  0.560006  2019-11-19 00:17:48\n",
              "1  _or9hxk29h  Idle  1574122669131  ... -0.534455  0.239546  2019-11-19 00:17:49\n",
              "2  _or9hxk29h  Idle  1574122670134  ...  0.033004  0.281068  2019-11-19 00:17:50\n",
              "3  _or9hxk29h  Idle  1574122671138  ...  0.489739  0.331106  2019-11-19 00:17:51\n",
              "4  _or9hxk29h  Idle  1574122672138  ...  0.290650 -0.171409  2019-11-19 00:17:52\n",
              "\n",
              "[5 rows x 7 columns]"
            ]
          },
          "metadata": {
            "tags": []
          },
          "execution_count": 99
        }
      ]
    },
    {
      "cell_type": "code",
      "metadata": {
        "id": "ctHZ2yTt1_93",
        "colab_type": "code",
        "colab": {}
      },
      "source": [
        "mag['Timestamps'] = mag['Timestamp'].astype(float)/1000\n",
        "mag['Time'] = mag['Timestamps'].apply(datetime.fromtimestamp)\n",
        "mag['Time'] = mag['Time'].dt.strftime(\"%Y-%m-%d %H:%M:%S\")\n",
        "mag.drop(['Timestamps'], axis=1, inplace=True)"
      ],
      "execution_count": 0,
      "outputs": []
    },
    {
      "cell_type": "code",
      "metadata": {
        "id": "66SW-J2I2AAr",
        "colab_type": "code",
        "outputId": "bfca98be-457c-45de-9fb2-178982295d21",
        "colab": {
          "base_uri": "https://localhost:8080/",
          "height": 195
        }
      },
      "source": [
        "mag.head()"
      ],
      "execution_count": 0,
      "outputs": [
        {
          "output_type": "execute_result",
          "data": {
            "text/html": [
              "<div>\n",
              "<style scoped>\n",
              "    .dataframe tbody tr th:only-of-type {\n",
              "        vertical-align: middle;\n",
              "    }\n",
              "\n",
              "    .dataframe tbody tr th {\n",
              "        vertical-align: top;\n",
              "    }\n",
              "\n",
              "    .dataframe thead th {\n",
              "        text-align: right;\n",
              "    }\n",
              "</style>\n",
              "<table border=\"1\" class=\"dataframe\">\n",
              "  <thead>\n",
              "    <tr style=\"text-align: right;\">\n",
              "      <th></th>\n",
              "      <th>JourneyID</th>\n",
              "      <th>Mode</th>\n",
              "      <th>Timestamp</th>\n",
              "      <th>mag_X</th>\n",
              "      <th>mag_Y</th>\n",
              "      <th>mag_Z</th>\n",
              "      <th>Time</th>\n",
              "    </tr>\n",
              "  </thead>\n",
              "  <tbody>\n",
              "    <tr>\n",
              "      <th>0</th>\n",
              "      <td>_or9hxk29h</td>\n",
              "      <td>Idle</td>\n",
              "      <td>1574122668038</td>\n",
              "      <td>-45.3125</td>\n",
              "      <td>18.3125</td>\n",
              "      <td>2.3125</td>\n",
              "      <td>2019-11-19 00:17:48</td>\n",
              "    </tr>\n",
              "    <tr>\n",
              "      <th>1</th>\n",
              "      <td>_or9hxk29h</td>\n",
              "      <td>Idle</td>\n",
              "      <td>1574122669039</td>\n",
              "      <td>-31.1250</td>\n",
              "      <td>27.7500</td>\n",
              "      <td>-2.1250</td>\n",
              "      <td>2019-11-19 00:17:49</td>\n",
              "    </tr>\n",
              "    <tr>\n",
              "      <th>2</th>\n",
              "      <td>_or9hxk29h</td>\n",
              "      <td>Idle</td>\n",
              "      <td>1574122670043</td>\n",
              "      <td>-18.2500</td>\n",
              "      <td>24.3125</td>\n",
              "      <td>-6.2500</td>\n",
              "      <td>2019-11-19 00:17:50</td>\n",
              "    </tr>\n",
              "    <tr>\n",
              "      <th>3</th>\n",
              "      <td>_or9hxk29h</td>\n",
              "      <td>Idle</td>\n",
              "      <td>1574122671047</td>\n",
              "      <td>-15.1250</td>\n",
              "      <td>17.8750</td>\n",
              "      <td>-4.3125</td>\n",
              "      <td>2019-11-19 00:17:51</td>\n",
              "    </tr>\n",
              "    <tr>\n",
              "      <th>4</th>\n",
              "      <td>_or9hxk29h</td>\n",
              "      <td>Idle</td>\n",
              "      <td>1574122672116</td>\n",
              "      <td>-6.9375</td>\n",
              "      <td>20.5625</td>\n",
              "      <td>-7.6875</td>\n",
              "      <td>2019-11-19 00:17:52</td>\n",
              "    </tr>\n",
              "  </tbody>\n",
              "</table>\n",
              "</div>"
            ],
            "text/plain": [
              "    JourneyID  Mode      Timestamp  ...    mag_Y   mag_Z                 Time\n",
              "0  _or9hxk29h  Idle  1574122668038  ...  18.3125  2.3125  2019-11-19 00:17:48\n",
              "1  _or9hxk29h  Idle  1574122669039  ...  27.7500 -2.1250  2019-11-19 00:17:49\n",
              "2  _or9hxk29h  Idle  1574122670043  ...  24.3125 -6.2500  2019-11-19 00:17:50\n",
              "3  _or9hxk29h  Idle  1574122671047  ...  17.8750 -4.3125  2019-11-19 00:17:51\n",
              "4  _or9hxk29h  Idle  1574122672116  ...  20.5625 -7.6875  2019-11-19 00:17:52\n",
              "\n",
              "[5 rows x 7 columns]"
            ]
          },
          "metadata": {
            "tags": []
          },
          "execution_count": 106
        }
      ]
    },
    {
      "cell_type": "markdown",
      "metadata": {
        "id": "0D__ShODjCzA",
        "colab_type": "text"
      },
      "source": [
        "Get data in ready format for segmentation"
      ]
    },
    {
      "cell_type": "code",
      "metadata": {
        "id": "qcITYQ98jC56",
        "colab_type": "code",
        "outputId": "526765a0-992d-4698-a6f8-9cdf9b8359a5",
        "colab": {
          "base_uri": "https://localhost:8080/",
          "height": 195
        }
      },
      "source": [
        "acc1 = acc.copy()\n",
        "acc1 = acc1[['Time', 'JourneyID', 'Mode', 'acc_X', 'acc_Y', 'acc_Z']]\n",
        "acc1.columns = ['waypoint_timeStart', 'JourneyID', 'Mode', 'acc_X', 'acc_Y', 'acc_Z']\n",
        "\n",
        "acc1['date_Start'] = pd.to_datetime(acc1['waypoint_timeStart']).dt.date\n",
        "acc1['waypoint_timeStart'] = pd.to_datetime(acc1['waypoint_timeStart']).dt.time\n",
        "acc1.reset_index(drop=True, inplace=True)\n",
        "acc1.head()"
      ],
      "execution_count": 0,
      "outputs": [
        {
          "output_type": "execute_result",
          "data": {
            "text/html": [
              "<div>\n",
              "<style scoped>\n",
              "    .dataframe tbody tr th:only-of-type {\n",
              "        vertical-align: middle;\n",
              "    }\n",
              "\n",
              "    .dataframe tbody tr th {\n",
              "        vertical-align: top;\n",
              "    }\n",
              "\n",
              "    .dataframe thead th {\n",
              "        text-align: right;\n",
              "    }\n",
              "</style>\n",
              "<table border=\"1\" class=\"dataframe\">\n",
              "  <thead>\n",
              "    <tr style=\"text-align: right;\">\n",
              "      <th></th>\n",
              "      <th>waypoint_timeStart</th>\n",
              "      <th>JourneyID</th>\n",
              "      <th>Mode</th>\n",
              "      <th>acc_X</th>\n",
              "      <th>acc_Y</th>\n",
              "      <th>acc_Z</th>\n",
              "      <th>date_Start</th>\n",
              "    </tr>\n",
              "  </thead>\n",
              "  <tbody>\n",
              "    <tr>\n",
              "      <th>0</th>\n",
              "      <td>00:17:48</td>\n",
              "      <td>_or9hxk29h</td>\n",
              "      <td>Idle</td>\n",
              "      <td>-0.101370</td>\n",
              "      <td>4.078714</td>\n",
              "      <td>9.324755</td>\n",
              "      <td>2019-11-19</td>\n",
              "    </tr>\n",
              "    <tr>\n",
              "      <th>1</th>\n",
              "      <td>00:17:49</td>\n",
              "      <td>_or9hxk29h</td>\n",
              "      <td>Idle</td>\n",
              "      <td>0.168676</td>\n",
              "      <td>0.638103</td>\n",
              "      <td>10.021468</td>\n",
              "      <td>2019-11-19</td>\n",
              "    </tr>\n",
              "    <tr>\n",
              "      <th>2</th>\n",
              "      <td>00:17:50</td>\n",
              "      <td>_or9hxk29h</td>\n",
              "      <td>Idle</td>\n",
              "      <td>3.005135</td>\n",
              "      <td>2.451950</td>\n",
              "      <td>13.441220</td>\n",
              "      <td>2019-11-19</td>\n",
              "    </tr>\n",
              "    <tr>\n",
              "      <th>3</th>\n",
              "      <td>00:17:51</td>\n",
              "      <td>_or9hxk29h</td>\n",
              "      <td>Idle</td>\n",
              "      <td>4.065824</td>\n",
              "      <td>3.711961</td>\n",
              "      <td>12.759917</td>\n",
              "      <td>2019-11-19</td>\n",
              "    </tr>\n",
              "    <tr>\n",
              "      <th>4</th>\n",
              "      <td>00:17:52</td>\n",
              "      <td>_or9hxk29h</td>\n",
              "      <td>Idle</td>\n",
              "      <td>4.574572</td>\n",
              "      <td>2.166216</td>\n",
              "      <td>16.789330</td>\n",
              "      <td>2019-11-19</td>\n",
              "    </tr>\n",
              "  </tbody>\n",
              "</table>\n",
              "</div>"
            ],
            "text/plain": [
              "  waypoint_timeStart   JourneyID  Mode  ...     acc_Y      acc_Z  date_Start\n",
              "0           00:17:48  _or9hxk29h  Idle  ...  4.078714   9.324755  2019-11-19\n",
              "1           00:17:49  _or9hxk29h  Idle  ...  0.638103  10.021468  2019-11-19\n",
              "2           00:17:50  _or9hxk29h  Idle  ...  2.451950  13.441220  2019-11-19\n",
              "3           00:17:51  _or9hxk29h  Idle  ...  3.711961  12.759917  2019-11-19\n",
              "4           00:17:52  _or9hxk29h  Idle  ...  2.166216  16.789330  2019-11-19\n",
              "\n",
              "[5 rows x 7 columns]"
            ]
          },
          "metadata": {
            "tags": []
          },
          "execution_count": 107
        }
      ]
    },
    {
      "cell_type": "code",
      "metadata": {
        "id": "VGSum1LbjEhf",
        "colab_type": "code",
        "outputId": "66d80f03-e767-4915-899e-a58a24661e0c",
        "colab": {
          "base_uri": "https://localhost:8080/",
          "height": 34
        }
      },
      "source": [
        "acc1.shape"
      ],
      "execution_count": 0,
      "outputs": [
        {
          "output_type": "execute_result",
          "data": {
            "text/plain": [
              "(196208, 7)"
            ]
          },
          "metadata": {
            "tags": []
          },
          "execution_count": 108
        }
      ]
    },
    {
      "cell_type": "code",
      "metadata": {
        "id": "Ua90WLrcjEqO",
        "colab_type": "code",
        "outputId": "599e7088-e4a1-4df7-e678-ec95ed71bfea",
        "colab": {
          "base_uri": "https://localhost:8080/",
          "height": 195
        }
      },
      "source": [
        "gyro1 = gyro.copy()\n",
        "gyro1 = gyro1[['Time', 'JourneyID', 'Mode', 'gyro_X', 'gyro_Y', 'gyro_Z']]\n",
        "gyro1.columns = ['waypoint_timeStart', 'JourneyID', 'Mode', 'gyro_X', 'gyro_Y', 'gyro_Z']\n",
        "\n",
        "gyro1['date_Start'] = pd.to_datetime(gyro1['waypoint_timeStart']).dt.date\n",
        "gyro1['waypoint_timeStart'] = pd.to_datetime(gyro1['waypoint_timeStart']).dt.time\n",
        "gyro1.reset_index(drop=True, inplace=True)\n",
        "gyro1.head()"
      ],
      "execution_count": 0,
      "outputs": [
        {
          "output_type": "execute_result",
          "data": {
            "text/html": [
              "<div>\n",
              "<style scoped>\n",
              "    .dataframe tbody tr th:only-of-type {\n",
              "        vertical-align: middle;\n",
              "    }\n",
              "\n",
              "    .dataframe tbody tr th {\n",
              "        vertical-align: top;\n",
              "    }\n",
              "\n",
              "    .dataframe thead th {\n",
              "        text-align: right;\n",
              "    }\n",
              "</style>\n",
              "<table border=\"1\" class=\"dataframe\">\n",
              "  <thead>\n",
              "    <tr style=\"text-align: right;\">\n",
              "      <th></th>\n",
              "      <th>waypoint_timeStart</th>\n",
              "      <th>JourneyID</th>\n",
              "      <th>Mode</th>\n",
              "      <th>gyro_X</th>\n",
              "      <th>gyro_Y</th>\n",
              "      <th>gyro_Z</th>\n",
              "      <th>date_Start</th>\n",
              "    </tr>\n",
              "  </thead>\n",
              "  <tbody>\n",
              "    <tr>\n",
              "      <th>0</th>\n",
              "      <td>00:17:48</td>\n",
              "      <td>_or9hxk29h</td>\n",
              "      <td>Idle</td>\n",
              "      <td>-0.074526</td>\n",
              "      <td>0.357723</td>\n",
              "      <td>0.560006</td>\n",
              "      <td>2019-11-19</td>\n",
              "    </tr>\n",
              "    <tr>\n",
              "      <th>1</th>\n",
              "      <td>00:17:49</td>\n",
              "      <td>_or9hxk29h</td>\n",
              "      <td>Idle</td>\n",
              "      <td>0.502515</td>\n",
              "      <td>-0.534455</td>\n",
              "      <td>0.239546</td>\n",
              "      <td>2019-11-19</td>\n",
              "    </tr>\n",
              "    <tr>\n",
              "      <th>2</th>\n",
              "      <td>00:17:50</td>\n",
              "      <td>_or9hxk29h</td>\n",
              "      <td>Idle</td>\n",
              "      <td>0.051103</td>\n",
              "      <td>0.033004</td>\n",
              "      <td>0.281068</td>\n",
              "      <td>2019-11-19</td>\n",
              "    </tr>\n",
              "    <tr>\n",
              "      <th>3</th>\n",
              "      <td>00:17:51</td>\n",
              "      <td>_or9hxk29h</td>\n",
              "      <td>Idle</td>\n",
              "      <td>1.049746</td>\n",
              "      <td>0.489739</td>\n",
              "      <td>0.331106</td>\n",
              "      <td>2019-11-19</td>\n",
              "    </tr>\n",
              "    <tr>\n",
              "      <th>4</th>\n",
              "      <td>00:17:52</td>\n",
              "      <td>_or9hxk29h</td>\n",
              "      <td>Idle</td>\n",
              "      <td>0.932634</td>\n",
              "      <td>0.290650</td>\n",
              "      <td>-0.171409</td>\n",
              "      <td>2019-11-19</td>\n",
              "    </tr>\n",
              "  </tbody>\n",
              "</table>\n",
              "</div>"
            ],
            "text/plain": [
              "  waypoint_timeStart   JourneyID  Mode  ...    gyro_Y    gyro_Z  date_Start\n",
              "0           00:17:48  _or9hxk29h  Idle  ...  0.357723  0.560006  2019-11-19\n",
              "1           00:17:49  _or9hxk29h  Idle  ... -0.534455  0.239546  2019-11-19\n",
              "2           00:17:50  _or9hxk29h  Idle  ...  0.033004  0.281068  2019-11-19\n",
              "3           00:17:51  _or9hxk29h  Idle  ...  0.489739  0.331106  2019-11-19\n",
              "4           00:17:52  _or9hxk29h  Idle  ...  0.290650 -0.171409  2019-11-19\n",
              "\n",
              "[5 rows x 7 columns]"
            ]
          },
          "metadata": {
            "tags": []
          },
          "execution_count": 109
        }
      ]
    },
    {
      "cell_type": "code",
      "metadata": {
        "id": "Y4rG2bNnkbM_",
        "colab_type": "code",
        "outputId": "073a0816-f60a-47c4-f4a1-da3107bb5f7e",
        "colab": {
          "base_uri": "https://localhost:8080/",
          "height": 34
        }
      },
      "source": [
        "gyro1.shape"
      ],
      "execution_count": 0,
      "outputs": [
        {
          "output_type": "execute_result",
          "data": {
            "text/plain": [
              "(196306, 7)"
            ]
          },
          "metadata": {
            "tags": []
          },
          "execution_count": 110
        }
      ]
    },
    {
      "cell_type": "code",
      "metadata": {
        "id": "QuIjDlG3kbRr",
        "colab_type": "code",
        "outputId": "67d210e3-ab63-4a5b-dcf0-9f2528d383ab",
        "colab": {
          "base_uri": "https://localhost:8080/",
          "height": 195
        }
      },
      "source": [
        "mag1 = mag.copy()\n",
        "mag1 = mag1[['Time', 'JourneyID', 'Mode', 'mag_X', 'mag_Y', 'mag_Z']]\n",
        "mag1.columns = ['waypoint_timeStart', 'JourneyID', 'Mode', 'mag_X', 'mag_Y', 'mag_Z']\n",
        "\n",
        "mag1['date_Start'] = pd.to_datetime(mag1['waypoint_timeStart']).dt.date\n",
        "mag1['waypoint_timeStart'] = pd.to_datetime(mag1['waypoint_timeStart']).dt.time\n",
        "mag1.reset_index(drop=True, inplace=True)\n",
        "mag1.head()"
      ],
      "execution_count": 0,
      "outputs": [
        {
          "output_type": "execute_result",
          "data": {
            "text/html": [
              "<div>\n",
              "<style scoped>\n",
              "    .dataframe tbody tr th:only-of-type {\n",
              "        vertical-align: middle;\n",
              "    }\n",
              "\n",
              "    .dataframe tbody tr th {\n",
              "        vertical-align: top;\n",
              "    }\n",
              "\n",
              "    .dataframe thead th {\n",
              "        text-align: right;\n",
              "    }\n",
              "</style>\n",
              "<table border=\"1\" class=\"dataframe\">\n",
              "  <thead>\n",
              "    <tr style=\"text-align: right;\">\n",
              "      <th></th>\n",
              "      <th>waypoint_timeStart</th>\n",
              "      <th>JourneyID</th>\n",
              "      <th>Mode</th>\n",
              "      <th>mag_X</th>\n",
              "      <th>mag_Y</th>\n",
              "      <th>mag_Z</th>\n",
              "      <th>date_Start</th>\n",
              "    </tr>\n",
              "  </thead>\n",
              "  <tbody>\n",
              "    <tr>\n",
              "      <th>0</th>\n",
              "      <td>00:17:48</td>\n",
              "      <td>_or9hxk29h</td>\n",
              "      <td>Idle</td>\n",
              "      <td>-45.3125</td>\n",
              "      <td>18.3125</td>\n",
              "      <td>2.3125</td>\n",
              "      <td>2019-11-19</td>\n",
              "    </tr>\n",
              "    <tr>\n",
              "      <th>1</th>\n",
              "      <td>00:17:49</td>\n",
              "      <td>_or9hxk29h</td>\n",
              "      <td>Idle</td>\n",
              "      <td>-31.1250</td>\n",
              "      <td>27.7500</td>\n",
              "      <td>-2.1250</td>\n",
              "      <td>2019-11-19</td>\n",
              "    </tr>\n",
              "    <tr>\n",
              "      <th>2</th>\n",
              "      <td>00:17:50</td>\n",
              "      <td>_or9hxk29h</td>\n",
              "      <td>Idle</td>\n",
              "      <td>-18.2500</td>\n",
              "      <td>24.3125</td>\n",
              "      <td>-6.2500</td>\n",
              "      <td>2019-11-19</td>\n",
              "    </tr>\n",
              "    <tr>\n",
              "      <th>3</th>\n",
              "      <td>00:17:51</td>\n",
              "      <td>_or9hxk29h</td>\n",
              "      <td>Idle</td>\n",
              "      <td>-15.1250</td>\n",
              "      <td>17.8750</td>\n",
              "      <td>-4.3125</td>\n",
              "      <td>2019-11-19</td>\n",
              "    </tr>\n",
              "    <tr>\n",
              "      <th>4</th>\n",
              "      <td>00:17:52</td>\n",
              "      <td>_or9hxk29h</td>\n",
              "      <td>Idle</td>\n",
              "      <td>-6.9375</td>\n",
              "      <td>20.5625</td>\n",
              "      <td>-7.6875</td>\n",
              "      <td>2019-11-19</td>\n",
              "    </tr>\n",
              "  </tbody>\n",
              "</table>\n",
              "</div>"
            ],
            "text/plain": [
              "  waypoint_timeStart   JourneyID  Mode    mag_X    mag_Y   mag_Z  date_Start\n",
              "0           00:17:48  _or9hxk29h  Idle -45.3125  18.3125  2.3125  2019-11-19\n",
              "1           00:17:49  _or9hxk29h  Idle -31.1250  27.7500 -2.1250  2019-11-19\n",
              "2           00:17:50  _or9hxk29h  Idle -18.2500  24.3125 -6.2500  2019-11-19\n",
              "3           00:17:51  _or9hxk29h  Idle -15.1250  17.8750 -4.3125  2019-11-19\n",
              "4           00:17:52  _or9hxk29h  Idle  -6.9375  20.5625 -7.6875  2019-11-19"
            ]
          },
          "metadata": {
            "tags": []
          },
          "execution_count": 111
        }
      ]
    },
    {
      "cell_type": "code",
      "metadata": {
        "id": "SZtiJqHikbV7",
        "colab_type": "code",
        "outputId": "64401a6a-bf13-4aca-e81b-b026f7dad04a",
        "colab": {
          "base_uri": "https://localhost:8080/",
          "height": 34
        }
      },
      "source": [
        "mag1.shape"
      ],
      "execution_count": 0,
      "outputs": [
        {
          "output_type": "execute_result",
          "data": {
            "text/plain": [
              "(195913, 7)"
            ]
          },
          "metadata": {
            "tags": []
          },
          "execution_count": 112
        }
      ]
    },
    {
      "cell_type": "markdown",
      "metadata": {
        "id": "nLSZADr_d7_i",
        "colab_type": "text"
      },
      "source": [
        "Drop duplicates"
      ]
    },
    {
      "cell_type": "code",
      "metadata": {
        "id": "C6ApcLCAd8Hx",
        "colab_type": "code",
        "colab": {}
      },
      "source": [
        "acc1.drop_duplicates(['waypoint_timeStart', 'JourneyID'], inplace = True)"
      ],
      "execution_count": 0,
      "outputs": []
    },
    {
      "cell_type": "markdown",
      "metadata": {
        "id": "KiXFw2E8eQr6",
        "colab_type": "text"
      },
      "source": [
        "Check the shape and dataframe"
      ]
    },
    {
      "cell_type": "code",
      "metadata": {
        "id": "OO6QovcJeQxB",
        "colab_type": "code",
        "outputId": "51dc584c-a395-4704-fd7a-cb3ad6d4967c",
        "colab": {
          "base_uri": "https://localhost:8080/",
          "height": 34
        }
      },
      "source": [
        "acc1.shape"
      ],
      "execution_count": 0,
      "outputs": [
        {
          "output_type": "execute_result",
          "data": {
            "text/plain": [
              "(74215, 7)"
            ]
          },
          "metadata": {
            "tags": []
          },
          "execution_count": 114
        }
      ]
    },
    {
      "cell_type": "code",
      "metadata": {
        "id": "1fKO4akieVnE",
        "colab_type": "code",
        "outputId": "d5839745-26a3-4321-8603-6c6738aa5285",
        "colab": {
          "base_uri": "https://localhost:8080/",
          "height": 402
        }
      },
      "source": [
        "acc1"
      ],
      "execution_count": 0,
      "outputs": [
        {
          "output_type": "execute_result",
          "data": {
            "text/html": [
              "<div>\n",
              "<style scoped>\n",
              "    .dataframe tbody tr th:only-of-type {\n",
              "        vertical-align: middle;\n",
              "    }\n",
              "\n",
              "    .dataframe tbody tr th {\n",
              "        vertical-align: top;\n",
              "    }\n",
              "\n",
              "    .dataframe thead th {\n",
              "        text-align: right;\n",
              "    }\n",
              "</style>\n",
              "<table border=\"1\" class=\"dataframe\">\n",
              "  <thead>\n",
              "    <tr style=\"text-align: right;\">\n",
              "      <th></th>\n",
              "      <th>waypoint_timeStart</th>\n",
              "      <th>JourneyID</th>\n",
              "      <th>Mode</th>\n",
              "      <th>acc_X</th>\n",
              "      <th>acc_Y</th>\n",
              "      <th>acc_Z</th>\n",
              "      <th>date_Start</th>\n",
              "    </tr>\n",
              "  </thead>\n",
              "  <tbody>\n",
              "    <tr>\n",
              "      <th>0</th>\n",
              "      <td>00:17:48</td>\n",
              "      <td>_or9hxk29h</td>\n",
              "      <td>Idle</td>\n",
              "      <td>-0.101370</td>\n",
              "      <td>4.078714</td>\n",
              "      <td>9.324755</td>\n",
              "      <td>2019-11-19</td>\n",
              "    </tr>\n",
              "    <tr>\n",
              "      <th>1</th>\n",
              "      <td>00:17:49</td>\n",
              "      <td>_or9hxk29h</td>\n",
              "      <td>Idle</td>\n",
              "      <td>0.168676</td>\n",
              "      <td>0.638103</td>\n",
              "      <td>10.021468</td>\n",
              "      <td>2019-11-19</td>\n",
              "    </tr>\n",
              "    <tr>\n",
              "      <th>2</th>\n",
              "      <td>00:17:50</td>\n",
              "      <td>_or9hxk29h</td>\n",
              "      <td>Idle</td>\n",
              "      <td>3.005135</td>\n",
              "      <td>2.451950</td>\n",
              "      <td>13.441220</td>\n",
              "      <td>2019-11-19</td>\n",
              "    </tr>\n",
              "    <tr>\n",
              "      <th>3</th>\n",
              "      <td>00:17:51</td>\n",
              "      <td>_or9hxk29h</td>\n",
              "      <td>Idle</td>\n",
              "      <td>4.065824</td>\n",
              "      <td>3.711961</td>\n",
              "      <td>12.759917</td>\n",
              "      <td>2019-11-19</td>\n",
              "    </tr>\n",
              "    <tr>\n",
              "      <th>4</th>\n",
              "      <td>00:17:52</td>\n",
              "      <td>_or9hxk29h</td>\n",
              "      <td>Idle</td>\n",
              "      <td>4.574572</td>\n",
              "      <td>2.166216</td>\n",
              "      <td>16.789330</td>\n",
              "      <td>2019-11-19</td>\n",
              "    </tr>\n",
              "    <tr>\n",
              "      <th>...</th>\n",
              "      <td>...</td>\n",
              "      <td>...</td>\n",
              "      <td>...</td>\n",
              "      <td>...</td>\n",
              "      <td>...</td>\n",
              "      <td>...</td>\n",
              "      <td>...</td>\n",
              "    </tr>\n",
              "    <tr>\n",
              "      <th>196203</th>\n",
              "      <td>07:54:03</td>\n",
              "      <td>_hfvz81iog</td>\n",
              "      <td>Car</td>\n",
              "      <td>-4.480107</td>\n",
              "      <td>2.629514</td>\n",
              "      <td>7.966649</td>\n",
              "      <td>2019-11-25</td>\n",
              "    </tr>\n",
              "    <tr>\n",
              "      <th>196204</th>\n",
              "      <td>07:54:04</td>\n",
              "      <td>_hfvz81iog</td>\n",
              "      <td>Car</td>\n",
              "      <td>-4.223745</td>\n",
              "      <td>2.347103</td>\n",
              "      <td>8.682439</td>\n",
              "      <td>2019-11-25</td>\n",
              "    </tr>\n",
              "    <tr>\n",
              "      <th>196205</th>\n",
              "      <td>07:54:05</td>\n",
              "      <td>_hfvz81iog</td>\n",
              "      <td>Car</td>\n",
              "      <td>-4.144229</td>\n",
              "      <td>2.525931</td>\n",
              "      <td>8.265186</td>\n",
              "      <td>2019-11-25</td>\n",
              "    </tr>\n",
              "    <tr>\n",
              "      <th>196206</th>\n",
              "      <td>07:54:06</td>\n",
              "      <td>_hfvz81iog</td>\n",
              "      <td>Car</td>\n",
              "      <td>-4.653495</td>\n",
              "      <td>1.840135</td>\n",
              "      <td>8.135546</td>\n",
              "      <td>2019-11-25</td>\n",
              "    </tr>\n",
              "    <tr>\n",
              "      <th>196207</th>\n",
              "      <td>07:54:07</td>\n",
              "      <td>_hfvz81iog</td>\n",
              "      <td>Car</td>\n",
              "      <td>-4.689963</td>\n",
              "      <td>2.226301</td>\n",
              "      <td>7.571836</td>\n",
              "      <td>2019-11-25</td>\n",
              "    </tr>\n",
              "  </tbody>\n",
              "</table>\n",
              "<p>74215 rows × 7 columns</p>\n",
              "</div>"
            ],
            "text/plain": [
              "       waypoint_timeStart   JourneyID  Mode  ...     acc_Y      acc_Z  date_Start\n",
              "0                00:17:48  _or9hxk29h  Idle  ...  4.078714   9.324755  2019-11-19\n",
              "1                00:17:49  _or9hxk29h  Idle  ...  0.638103  10.021468  2019-11-19\n",
              "2                00:17:50  _or9hxk29h  Idle  ...  2.451950  13.441220  2019-11-19\n",
              "3                00:17:51  _or9hxk29h  Idle  ...  3.711961  12.759917  2019-11-19\n",
              "4                00:17:52  _or9hxk29h  Idle  ...  2.166216  16.789330  2019-11-19\n",
              "...                   ...         ...   ...  ...       ...        ...         ...\n",
              "196203           07:54:03  _hfvz81iog   Car  ...  2.629514   7.966649  2019-11-25\n",
              "196204           07:54:04  _hfvz81iog   Car  ...  2.347103   8.682439  2019-11-25\n",
              "196205           07:54:05  _hfvz81iog   Car  ...  2.525931   8.265186  2019-11-25\n",
              "196206           07:54:06  _hfvz81iog   Car  ...  1.840135   8.135546  2019-11-25\n",
              "196207           07:54:07  _hfvz81iog   Car  ...  2.226301   7.571836  2019-11-25\n",
              "\n",
              "[74215 rows x 7 columns]"
            ]
          },
          "metadata": {
            "tags": []
          },
          "execution_count": 115
        }
      ]
    },
    {
      "cell_type": "code",
      "metadata": {
        "id": "nqnmb-_1VZzp",
        "colab_type": "code",
        "colab": {}
      },
      "source": [
        "gyro1.drop_duplicates(['waypoint_timeStart', 'JourneyID'], inplace = True)"
      ],
      "execution_count": 0,
      "outputs": []
    },
    {
      "cell_type": "code",
      "metadata": {
        "id": "fwNAlhvLeYMV",
        "colab_type": "code",
        "outputId": "42cc964e-0898-4656-fe38-708d00d46282",
        "colab": {
          "base_uri": "https://localhost:8080/",
          "height": 34
        }
      },
      "source": [
        "gyro1.shape"
      ],
      "execution_count": 0,
      "outputs": [
        {
          "output_type": "execute_result",
          "data": {
            "text/plain": [
              "(74181, 7)"
            ]
          },
          "metadata": {
            "tags": []
          },
          "execution_count": 117
        }
      ]
    },
    {
      "cell_type": "code",
      "metadata": {
        "id": "3V60I0NYeYP4",
        "colab_type": "code",
        "outputId": "302d35ee-6488-4233-efc4-cfa390122fc5",
        "colab": {
          "base_uri": "https://localhost:8080/",
          "height": 402
        }
      },
      "source": [
        "gyro1"
      ],
      "execution_count": 0,
      "outputs": [
        {
          "output_type": "execute_result",
          "data": {
            "text/html": [
              "<div>\n",
              "<style scoped>\n",
              "    .dataframe tbody tr th:only-of-type {\n",
              "        vertical-align: middle;\n",
              "    }\n",
              "\n",
              "    .dataframe tbody tr th {\n",
              "        vertical-align: top;\n",
              "    }\n",
              "\n",
              "    .dataframe thead th {\n",
              "        text-align: right;\n",
              "    }\n",
              "</style>\n",
              "<table border=\"1\" class=\"dataframe\">\n",
              "  <thead>\n",
              "    <tr style=\"text-align: right;\">\n",
              "      <th></th>\n",
              "      <th>waypoint_timeStart</th>\n",
              "      <th>JourneyID</th>\n",
              "      <th>Mode</th>\n",
              "      <th>gyro_X</th>\n",
              "      <th>gyro_Y</th>\n",
              "      <th>gyro_Z</th>\n",
              "      <th>date_Start</th>\n",
              "    </tr>\n",
              "  </thead>\n",
              "  <tbody>\n",
              "    <tr>\n",
              "      <th>0</th>\n",
              "      <td>00:17:48</td>\n",
              "      <td>_or9hxk29h</td>\n",
              "      <td>Idle</td>\n",
              "      <td>-0.074526</td>\n",
              "      <td>0.357723</td>\n",
              "      <td>0.560006</td>\n",
              "      <td>2019-11-19</td>\n",
              "    </tr>\n",
              "    <tr>\n",
              "      <th>1</th>\n",
              "      <td>00:17:49</td>\n",
              "      <td>_or9hxk29h</td>\n",
              "      <td>Idle</td>\n",
              "      <td>0.502515</td>\n",
              "      <td>-0.534455</td>\n",
              "      <td>0.239546</td>\n",
              "      <td>2019-11-19</td>\n",
              "    </tr>\n",
              "    <tr>\n",
              "      <th>2</th>\n",
              "      <td>00:17:50</td>\n",
              "      <td>_or9hxk29h</td>\n",
              "      <td>Idle</td>\n",
              "      <td>0.051103</td>\n",
              "      <td>0.033004</td>\n",
              "      <td>0.281068</td>\n",
              "      <td>2019-11-19</td>\n",
              "    </tr>\n",
              "    <tr>\n",
              "      <th>3</th>\n",
              "      <td>00:17:51</td>\n",
              "      <td>_or9hxk29h</td>\n",
              "      <td>Idle</td>\n",
              "      <td>1.049746</td>\n",
              "      <td>0.489739</td>\n",
              "      <td>0.331106</td>\n",
              "      <td>2019-11-19</td>\n",
              "    </tr>\n",
              "    <tr>\n",
              "      <th>4</th>\n",
              "      <td>00:17:52</td>\n",
              "      <td>_or9hxk29h</td>\n",
              "      <td>Idle</td>\n",
              "      <td>0.932634</td>\n",
              "      <td>0.290650</td>\n",
              "      <td>-0.171409</td>\n",
              "      <td>2019-11-19</td>\n",
              "    </tr>\n",
              "    <tr>\n",
              "      <th>...</th>\n",
              "      <td>...</td>\n",
              "      <td>...</td>\n",
              "      <td>...</td>\n",
              "      <td>...</td>\n",
              "      <td>...</td>\n",
              "      <td>...</td>\n",
              "      <td>...</td>\n",
              "    </tr>\n",
              "    <tr>\n",
              "      <th>196301</th>\n",
              "      <td>07:54:03</td>\n",
              "      <td>_hfvz81iog</td>\n",
              "      <td>Car</td>\n",
              "      <td>0.044715</td>\n",
              "      <td>-0.061750</td>\n",
              "      <td>0.047909</td>\n",
              "      <td>2019-11-25</td>\n",
              "    </tr>\n",
              "    <tr>\n",
              "      <th>196302</th>\n",
              "      <td>07:54:04</td>\n",
              "      <td>_hfvz81iog</td>\n",
              "      <td>Car</td>\n",
              "      <td>-0.002129</td>\n",
              "      <td>-0.037263</td>\n",
              "      <td>0.001065</td>\n",
              "      <td>2019-11-25</td>\n",
              "    </tr>\n",
              "    <tr>\n",
              "      <th>196303</th>\n",
              "      <td>07:54:05</td>\n",
              "      <td>_hfvz81iog</td>\n",
              "      <td>Car</td>\n",
              "      <td>0.027681</td>\n",
              "      <td>0.007453</td>\n",
              "      <td>0.013840</td>\n",
              "      <td>2019-11-25</td>\n",
              "    </tr>\n",
              "    <tr>\n",
              "      <th>196304</th>\n",
              "      <td>07:54:06</td>\n",
              "      <td>_hfvz81iog</td>\n",
              "      <td>Car</td>\n",
              "      <td>0.004259</td>\n",
              "      <td>-0.011711</td>\n",
              "      <td>0.006388</td>\n",
              "      <td>2019-11-25</td>\n",
              "    </tr>\n",
              "    <tr>\n",
              "      <th>196305</th>\n",
              "      <td>07:54:07</td>\n",
              "      <td>_hfvz81iog</td>\n",
              "      <td>Car</td>\n",
              "      <td>-0.036198</td>\n",
              "      <td>-0.046845</td>\n",
              "      <td>-0.039392</td>\n",
              "      <td>2019-11-25</td>\n",
              "    </tr>\n",
              "  </tbody>\n",
              "</table>\n",
              "<p>74181 rows × 7 columns</p>\n",
              "</div>"
            ],
            "text/plain": [
              "       waypoint_timeStart   JourneyID  Mode  ...    gyro_Y    gyro_Z  date_Start\n",
              "0                00:17:48  _or9hxk29h  Idle  ...  0.357723  0.560006  2019-11-19\n",
              "1                00:17:49  _or9hxk29h  Idle  ... -0.534455  0.239546  2019-11-19\n",
              "2                00:17:50  _or9hxk29h  Idle  ...  0.033004  0.281068  2019-11-19\n",
              "3                00:17:51  _or9hxk29h  Idle  ...  0.489739  0.331106  2019-11-19\n",
              "4                00:17:52  _or9hxk29h  Idle  ...  0.290650 -0.171409  2019-11-19\n",
              "...                   ...         ...   ...  ...       ...       ...         ...\n",
              "196301           07:54:03  _hfvz81iog   Car  ... -0.061750  0.047909  2019-11-25\n",
              "196302           07:54:04  _hfvz81iog   Car  ... -0.037263  0.001065  2019-11-25\n",
              "196303           07:54:05  _hfvz81iog   Car  ...  0.007453  0.013840  2019-11-25\n",
              "196304           07:54:06  _hfvz81iog   Car  ... -0.011711  0.006388  2019-11-25\n",
              "196305           07:54:07  _hfvz81iog   Car  ... -0.046845 -0.039392  2019-11-25\n",
              "\n",
              "[74181 rows x 7 columns]"
            ]
          },
          "metadata": {
            "tags": []
          },
          "execution_count": 118
        }
      ]
    },
    {
      "cell_type": "code",
      "metadata": {
        "id": "7rWo7sreVeqP",
        "colab_type": "code",
        "colab": {}
      },
      "source": [
        "mag1.drop_duplicates(['waypoint_timeStart', 'JourneyID'], inplace = True)"
      ],
      "execution_count": 0,
      "outputs": []
    },
    {
      "cell_type": "code",
      "metadata": {
        "id": "ZgOUR_bdeYUW",
        "colab_type": "code",
        "outputId": "2b5d486b-cbbc-45b4-c62e-902fec4abcc2",
        "colab": {
          "base_uri": "https://localhost:8080/",
          "height": 34
        }
      },
      "source": [
        "mag1.shape"
      ],
      "execution_count": 0,
      "outputs": [
        {
          "output_type": "execute_result",
          "data": {
            "text/plain": [
              "(73538, 7)"
            ]
          },
          "metadata": {
            "tags": []
          },
          "execution_count": 120
        }
      ]
    },
    {
      "cell_type": "code",
      "metadata": {
        "id": "c8a09Xm9eYXe",
        "colab_type": "code",
        "outputId": "4d947f30-89f4-46ab-8dad-a08127293f99",
        "colab": {
          "base_uri": "https://localhost:8080/",
          "height": 402
        }
      },
      "source": [
        "mag1"
      ],
      "execution_count": 0,
      "outputs": [
        {
          "output_type": "execute_result",
          "data": {
            "text/html": [
              "<div>\n",
              "<style scoped>\n",
              "    .dataframe tbody tr th:only-of-type {\n",
              "        vertical-align: middle;\n",
              "    }\n",
              "\n",
              "    .dataframe tbody tr th {\n",
              "        vertical-align: top;\n",
              "    }\n",
              "\n",
              "    .dataframe thead th {\n",
              "        text-align: right;\n",
              "    }\n",
              "</style>\n",
              "<table border=\"1\" class=\"dataframe\">\n",
              "  <thead>\n",
              "    <tr style=\"text-align: right;\">\n",
              "      <th></th>\n",
              "      <th>waypoint_timeStart</th>\n",
              "      <th>JourneyID</th>\n",
              "      <th>Mode</th>\n",
              "      <th>mag_X</th>\n",
              "      <th>mag_Y</th>\n",
              "      <th>mag_Z</th>\n",
              "      <th>date_Start</th>\n",
              "    </tr>\n",
              "  </thead>\n",
              "  <tbody>\n",
              "    <tr>\n",
              "      <th>0</th>\n",
              "      <td>00:17:48</td>\n",
              "      <td>_or9hxk29h</td>\n",
              "      <td>Idle</td>\n",
              "      <td>-45.3125</td>\n",
              "      <td>18.3125</td>\n",
              "      <td>2.3125</td>\n",
              "      <td>2019-11-19</td>\n",
              "    </tr>\n",
              "    <tr>\n",
              "      <th>1</th>\n",
              "      <td>00:17:49</td>\n",
              "      <td>_or9hxk29h</td>\n",
              "      <td>Idle</td>\n",
              "      <td>-31.1250</td>\n",
              "      <td>27.7500</td>\n",
              "      <td>-2.1250</td>\n",
              "      <td>2019-11-19</td>\n",
              "    </tr>\n",
              "    <tr>\n",
              "      <th>2</th>\n",
              "      <td>00:17:50</td>\n",
              "      <td>_or9hxk29h</td>\n",
              "      <td>Idle</td>\n",
              "      <td>-18.2500</td>\n",
              "      <td>24.3125</td>\n",
              "      <td>-6.2500</td>\n",
              "      <td>2019-11-19</td>\n",
              "    </tr>\n",
              "    <tr>\n",
              "      <th>3</th>\n",
              "      <td>00:17:51</td>\n",
              "      <td>_or9hxk29h</td>\n",
              "      <td>Idle</td>\n",
              "      <td>-15.1250</td>\n",
              "      <td>17.8750</td>\n",
              "      <td>-4.3125</td>\n",
              "      <td>2019-11-19</td>\n",
              "    </tr>\n",
              "    <tr>\n",
              "      <th>4</th>\n",
              "      <td>00:17:52</td>\n",
              "      <td>_or9hxk29h</td>\n",
              "      <td>Idle</td>\n",
              "      <td>-6.9375</td>\n",
              "      <td>20.5625</td>\n",
              "      <td>-7.6875</td>\n",
              "      <td>2019-11-19</td>\n",
              "    </tr>\n",
              "    <tr>\n",
              "      <th>...</th>\n",
              "      <td>...</td>\n",
              "      <td>...</td>\n",
              "      <td>...</td>\n",
              "      <td>...</td>\n",
              "      <td>...</td>\n",
              "      <td>...</td>\n",
              "      <td>...</td>\n",
              "    </tr>\n",
              "    <tr>\n",
              "      <th>195908</th>\n",
              "      <td>07:54:03</td>\n",
              "      <td>_hfvz81iog</td>\n",
              "      <td>Car</td>\n",
              "      <td>-422.3750</td>\n",
              "      <td>-443.3750</td>\n",
              "      <td>419.6875</td>\n",
              "      <td>2019-11-25</td>\n",
              "    </tr>\n",
              "    <tr>\n",
              "      <th>195909</th>\n",
              "      <td>07:54:04</td>\n",
              "      <td>_hfvz81iog</td>\n",
              "      <td>Car</td>\n",
              "      <td>-423.7500</td>\n",
              "      <td>-445.5000</td>\n",
              "      <td>418.3750</td>\n",
              "      <td>2019-11-25</td>\n",
              "    </tr>\n",
              "    <tr>\n",
              "      <th>195910</th>\n",
              "      <td>07:54:05</td>\n",
              "      <td>_hfvz81iog</td>\n",
              "      <td>Car</td>\n",
              "      <td>-424.4375</td>\n",
              "      <td>-442.1250</td>\n",
              "      <td>418.8750</td>\n",
              "      <td>2019-11-25</td>\n",
              "    </tr>\n",
              "    <tr>\n",
              "      <th>195911</th>\n",
              "      <td>07:54:06</td>\n",
              "      <td>_hfvz81iog</td>\n",
              "      <td>Car</td>\n",
              "      <td>-425.1250</td>\n",
              "      <td>-449.0000</td>\n",
              "      <td>420.0625</td>\n",
              "      <td>2019-11-25</td>\n",
              "    </tr>\n",
              "    <tr>\n",
              "      <th>195912</th>\n",
              "      <td>07:54:07</td>\n",
              "      <td>_hfvz81iog</td>\n",
              "      <td>Car</td>\n",
              "      <td>-427.7500</td>\n",
              "      <td>-452.3750</td>\n",
              "      <td>421.1250</td>\n",
              "      <td>2019-11-25</td>\n",
              "    </tr>\n",
              "  </tbody>\n",
              "</table>\n",
              "<p>73538 rows × 7 columns</p>\n",
              "</div>"
            ],
            "text/plain": [
              "       waypoint_timeStart   JourneyID  Mode  ...     mag_Y     mag_Z  date_Start\n",
              "0                00:17:48  _or9hxk29h  Idle  ...   18.3125    2.3125  2019-11-19\n",
              "1                00:17:49  _or9hxk29h  Idle  ...   27.7500   -2.1250  2019-11-19\n",
              "2                00:17:50  _or9hxk29h  Idle  ...   24.3125   -6.2500  2019-11-19\n",
              "3                00:17:51  _or9hxk29h  Idle  ...   17.8750   -4.3125  2019-11-19\n",
              "4                00:17:52  _or9hxk29h  Idle  ...   20.5625   -7.6875  2019-11-19\n",
              "...                   ...         ...   ...  ...       ...       ...         ...\n",
              "195908           07:54:03  _hfvz81iog   Car  ... -443.3750  419.6875  2019-11-25\n",
              "195909           07:54:04  _hfvz81iog   Car  ... -445.5000  418.3750  2019-11-25\n",
              "195910           07:54:05  _hfvz81iog   Car  ... -442.1250  418.8750  2019-11-25\n",
              "195911           07:54:06  _hfvz81iog   Car  ... -449.0000  420.0625  2019-11-25\n",
              "195912           07:54:07  _hfvz81iog   Car  ... -452.3750  421.1250  2019-11-25\n",
              "\n",
              "[73538 rows x 7 columns]"
            ]
          },
          "metadata": {
            "tags": []
          },
          "execution_count": 121
        }
      ]
    },
    {
      "cell_type": "code",
      "metadata": {
        "id": "Y7oA0pmleef5",
        "colab_type": "code",
        "colab": {}
      },
      "source": [
        "acc_gyro = pd.merge(acc1, \n",
        "                  gyro1[['waypoint_timeStart', 'JourneyID', 'gyro_X', 'gyro_Y', 'gyro_Z']],\n",
        "                  how = 'inner',\n",
        "                  on = ['waypoint_timeStart', 'JourneyID'])"
      ],
      "execution_count": 0,
      "outputs": []
    },
    {
      "cell_type": "code",
      "metadata": {
        "id": "tsbwu0lgmuRB",
        "colab_type": "code",
        "outputId": "b3869aa3-df69-48c1-f297-2ea233055040",
        "colab": {
          "base_uri": "https://localhost:8080/",
          "height": 402
        }
      },
      "source": [
        "acc_gyro"
      ],
      "execution_count": 0,
      "outputs": [
        {
          "output_type": "execute_result",
          "data": {
            "text/html": [
              "<div>\n",
              "<style scoped>\n",
              "    .dataframe tbody tr th:only-of-type {\n",
              "        vertical-align: middle;\n",
              "    }\n",
              "\n",
              "    .dataframe tbody tr th {\n",
              "        vertical-align: top;\n",
              "    }\n",
              "\n",
              "    .dataframe thead th {\n",
              "        text-align: right;\n",
              "    }\n",
              "</style>\n",
              "<table border=\"1\" class=\"dataframe\">\n",
              "  <thead>\n",
              "    <tr style=\"text-align: right;\">\n",
              "      <th></th>\n",
              "      <th>waypoint_timeStart</th>\n",
              "      <th>JourneyID</th>\n",
              "      <th>Mode</th>\n",
              "      <th>acc_X</th>\n",
              "      <th>acc_Y</th>\n",
              "      <th>acc_Z</th>\n",
              "      <th>date_Start</th>\n",
              "      <th>gyro_X</th>\n",
              "      <th>gyro_Y</th>\n",
              "      <th>gyro_Z</th>\n",
              "    </tr>\n",
              "  </thead>\n",
              "  <tbody>\n",
              "    <tr>\n",
              "      <th>0</th>\n",
              "      <td>00:17:48</td>\n",
              "      <td>_or9hxk29h</td>\n",
              "      <td>Idle</td>\n",
              "      <td>-0.101370</td>\n",
              "      <td>4.078714</td>\n",
              "      <td>9.324755</td>\n",
              "      <td>2019-11-19</td>\n",
              "      <td>-0.074526</td>\n",
              "      <td>0.357723</td>\n",
              "      <td>0.560006</td>\n",
              "    </tr>\n",
              "    <tr>\n",
              "      <th>1</th>\n",
              "      <td>00:17:49</td>\n",
              "      <td>_or9hxk29h</td>\n",
              "      <td>Idle</td>\n",
              "      <td>0.168676</td>\n",
              "      <td>0.638103</td>\n",
              "      <td>10.021468</td>\n",
              "      <td>2019-11-19</td>\n",
              "      <td>0.502515</td>\n",
              "      <td>-0.534455</td>\n",
              "      <td>0.239546</td>\n",
              "    </tr>\n",
              "    <tr>\n",
              "      <th>2</th>\n",
              "      <td>00:17:50</td>\n",
              "      <td>_or9hxk29h</td>\n",
              "      <td>Idle</td>\n",
              "      <td>3.005135</td>\n",
              "      <td>2.451950</td>\n",
              "      <td>13.441220</td>\n",
              "      <td>2019-11-19</td>\n",
              "      <td>0.051103</td>\n",
              "      <td>0.033004</td>\n",
              "      <td>0.281068</td>\n",
              "    </tr>\n",
              "    <tr>\n",
              "      <th>3</th>\n",
              "      <td>00:17:51</td>\n",
              "      <td>_or9hxk29h</td>\n",
              "      <td>Idle</td>\n",
              "      <td>4.065824</td>\n",
              "      <td>3.711961</td>\n",
              "      <td>12.759917</td>\n",
              "      <td>2019-11-19</td>\n",
              "      <td>1.049746</td>\n",
              "      <td>0.489739</td>\n",
              "      <td>0.331106</td>\n",
              "    </tr>\n",
              "    <tr>\n",
              "      <th>4</th>\n",
              "      <td>00:17:52</td>\n",
              "      <td>_or9hxk29h</td>\n",
              "      <td>Idle</td>\n",
              "      <td>4.574572</td>\n",
              "      <td>2.166216</td>\n",
              "      <td>16.789330</td>\n",
              "      <td>2019-11-19</td>\n",
              "      <td>0.932634</td>\n",
              "      <td>0.290650</td>\n",
              "      <td>-0.171409</td>\n",
              "    </tr>\n",
              "    <tr>\n",
              "      <th>...</th>\n",
              "      <td>...</td>\n",
              "      <td>...</td>\n",
              "      <td>...</td>\n",
              "      <td>...</td>\n",
              "      <td>...</td>\n",
              "      <td>...</td>\n",
              "      <td>...</td>\n",
              "      <td>...</td>\n",
              "      <td>...</td>\n",
              "      <td>...</td>\n",
              "    </tr>\n",
              "    <tr>\n",
              "      <th>70857</th>\n",
              "      <td>07:54:03</td>\n",
              "      <td>_hfvz81iog</td>\n",
              "      <td>Car</td>\n",
              "      <td>-4.480107</td>\n",
              "      <td>2.629514</td>\n",
              "      <td>7.966649</td>\n",
              "      <td>2019-11-25</td>\n",
              "      <td>0.044715</td>\n",
              "      <td>-0.061750</td>\n",
              "      <td>0.047909</td>\n",
              "    </tr>\n",
              "    <tr>\n",
              "      <th>70858</th>\n",
              "      <td>07:54:04</td>\n",
              "      <td>_hfvz81iog</td>\n",
              "      <td>Car</td>\n",
              "      <td>-4.223745</td>\n",
              "      <td>2.347103</td>\n",
              "      <td>8.682439</td>\n",
              "      <td>2019-11-25</td>\n",
              "      <td>-0.002129</td>\n",
              "      <td>-0.037263</td>\n",
              "      <td>0.001065</td>\n",
              "    </tr>\n",
              "    <tr>\n",
              "      <th>70859</th>\n",
              "      <td>07:54:05</td>\n",
              "      <td>_hfvz81iog</td>\n",
              "      <td>Car</td>\n",
              "      <td>-4.144229</td>\n",
              "      <td>2.525931</td>\n",
              "      <td>8.265186</td>\n",
              "      <td>2019-11-25</td>\n",
              "      <td>0.027681</td>\n",
              "      <td>0.007453</td>\n",
              "      <td>0.013840</td>\n",
              "    </tr>\n",
              "    <tr>\n",
              "      <th>70860</th>\n",
              "      <td>07:54:06</td>\n",
              "      <td>_hfvz81iog</td>\n",
              "      <td>Car</td>\n",
              "      <td>-4.653495</td>\n",
              "      <td>1.840135</td>\n",
              "      <td>8.135546</td>\n",
              "      <td>2019-11-25</td>\n",
              "      <td>0.004259</td>\n",
              "      <td>-0.011711</td>\n",
              "      <td>0.006388</td>\n",
              "    </tr>\n",
              "    <tr>\n",
              "      <th>70861</th>\n",
              "      <td>07:54:07</td>\n",
              "      <td>_hfvz81iog</td>\n",
              "      <td>Car</td>\n",
              "      <td>-4.689963</td>\n",
              "      <td>2.226301</td>\n",
              "      <td>7.571836</td>\n",
              "      <td>2019-11-25</td>\n",
              "      <td>-0.036198</td>\n",
              "      <td>-0.046845</td>\n",
              "      <td>-0.039392</td>\n",
              "    </tr>\n",
              "  </tbody>\n",
              "</table>\n",
              "<p>70862 rows × 10 columns</p>\n",
              "</div>"
            ],
            "text/plain": [
              "      waypoint_timeStart   JourneyID  Mode  ...    gyro_X    gyro_Y    gyro_Z\n",
              "0               00:17:48  _or9hxk29h  Idle  ... -0.074526  0.357723  0.560006\n",
              "1               00:17:49  _or9hxk29h  Idle  ...  0.502515 -0.534455  0.239546\n",
              "2               00:17:50  _or9hxk29h  Idle  ...  0.051103  0.033004  0.281068\n",
              "3               00:17:51  _or9hxk29h  Idle  ...  1.049746  0.489739  0.331106\n",
              "4               00:17:52  _or9hxk29h  Idle  ...  0.932634  0.290650 -0.171409\n",
              "...                  ...         ...   ...  ...       ...       ...       ...\n",
              "70857           07:54:03  _hfvz81iog   Car  ...  0.044715 -0.061750  0.047909\n",
              "70858           07:54:04  _hfvz81iog   Car  ... -0.002129 -0.037263  0.001065\n",
              "70859           07:54:05  _hfvz81iog   Car  ...  0.027681  0.007453  0.013840\n",
              "70860           07:54:06  _hfvz81iog   Car  ...  0.004259 -0.011711  0.006388\n",
              "70861           07:54:07  _hfvz81iog   Car  ... -0.036198 -0.046845 -0.039392\n",
              "\n",
              "[70862 rows x 10 columns]"
            ]
          },
          "metadata": {
            "tags": []
          },
          "execution_count": 125
        }
      ]
    },
    {
      "cell_type": "code",
      "metadata": {
        "id": "tr02OFjAnAgR",
        "colab_type": "code",
        "colab": {}
      },
      "source": [
        "acc_gyro_mag = pd.merge(acc_gyro, \n",
        "                  mag1[['waypoint_timeStart', 'JourneyID', 'mag_X', 'mag_Y', 'mag_Z']],\n",
        "                  how = 'inner',\n",
        "                  on = ['waypoint_timeStart', 'JourneyID'])"
      ],
      "execution_count": 0,
      "outputs": []
    },
    {
      "cell_type": "code",
      "metadata": {
        "id": "MOVBH9YCxW4r",
        "colab_type": "code",
        "outputId": "83f4a45b-dcee-46fc-bc4c-59d794ba9c65",
        "colab": {
          "base_uri": "https://localhost:8080/",
          "height": 422
        }
      },
      "source": [
        "acc_gyro_mag"
      ],
      "execution_count": 0,
      "outputs": [
        {
          "output_type": "execute_result",
          "data": {
            "text/html": [
              "<div>\n",
              "<style scoped>\n",
              "    .dataframe tbody tr th:only-of-type {\n",
              "        vertical-align: middle;\n",
              "    }\n",
              "\n",
              "    .dataframe tbody tr th {\n",
              "        vertical-align: top;\n",
              "    }\n",
              "\n",
              "    .dataframe thead th {\n",
              "        text-align: right;\n",
              "    }\n",
              "</style>\n",
              "<table border=\"1\" class=\"dataframe\">\n",
              "  <thead>\n",
              "    <tr style=\"text-align: right;\">\n",
              "      <th></th>\n",
              "      <th>waypoint_timeStart</th>\n",
              "      <th>JourneyID</th>\n",
              "      <th>Mode</th>\n",
              "      <th>acc_X</th>\n",
              "      <th>acc_Y</th>\n",
              "      <th>acc_Z</th>\n",
              "      <th>date_Start</th>\n",
              "      <th>gyro_X</th>\n",
              "      <th>gyro_Y</th>\n",
              "      <th>gyro_Z</th>\n",
              "      <th>mag_X</th>\n",
              "      <th>mag_Y</th>\n",
              "      <th>mag_Z</th>\n",
              "    </tr>\n",
              "  </thead>\n",
              "  <tbody>\n",
              "    <tr>\n",
              "      <th>0</th>\n",
              "      <td>00:17:48</td>\n",
              "      <td>_or9hxk29h</td>\n",
              "      <td>Idle</td>\n",
              "      <td>-0.101370</td>\n",
              "      <td>4.078714</td>\n",
              "      <td>9.324755</td>\n",
              "      <td>2019-11-19</td>\n",
              "      <td>-0.074526</td>\n",
              "      <td>0.357723</td>\n",
              "      <td>0.560006</td>\n",
              "      <td>-45.3125</td>\n",
              "      <td>18.3125</td>\n",
              "      <td>2.3125</td>\n",
              "    </tr>\n",
              "    <tr>\n",
              "      <th>1</th>\n",
              "      <td>00:17:49</td>\n",
              "      <td>_or9hxk29h</td>\n",
              "      <td>Idle</td>\n",
              "      <td>0.168676</td>\n",
              "      <td>0.638103</td>\n",
              "      <td>10.021468</td>\n",
              "      <td>2019-11-19</td>\n",
              "      <td>0.502515</td>\n",
              "      <td>-0.534455</td>\n",
              "      <td>0.239546</td>\n",
              "      <td>-31.1250</td>\n",
              "      <td>27.7500</td>\n",
              "      <td>-2.1250</td>\n",
              "    </tr>\n",
              "    <tr>\n",
              "      <th>2</th>\n",
              "      <td>00:17:50</td>\n",
              "      <td>_or9hxk29h</td>\n",
              "      <td>Idle</td>\n",
              "      <td>3.005135</td>\n",
              "      <td>2.451950</td>\n",
              "      <td>13.441220</td>\n",
              "      <td>2019-11-19</td>\n",
              "      <td>0.051103</td>\n",
              "      <td>0.033004</td>\n",
              "      <td>0.281068</td>\n",
              "      <td>-18.2500</td>\n",
              "      <td>24.3125</td>\n",
              "      <td>-6.2500</td>\n",
              "    </tr>\n",
              "    <tr>\n",
              "      <th>3</th>\n",
              "      <td>00:17:51</td>\n",
              "      <td>_or9hxk29h</td>\n",
              "      <td>Idle</td>\n",
              "      <td>4.065824</td>\n",
              "      <td>3.711961</td>\n",
              "      <td>12.759917</td>\n",
              "      <td>2019-11-19</td>\n",
              "      <td>1.049746</td>\n",
              "      <td>0.489739</td>\n",
              "      <td>0.331106</td>\n",
              "      <td>-15.1250</td>\n",
              "      <td>17.8750</td>\n",
              "      <td>-4.3125</td>\n",
              "    </tr>\n",
              "    <tr>\n",
              "      <th>4</th>\n",
              "      <td>00:17:52</td>\n",
              "      <td>_or9hxk29h</td>\n",
              "      <td>Idle</td>\n",
              "      <td>4.574572</td>\n",
              "      <td>2.166216</td>\n",
              "      <td>16.789330</td>\n",
              "      <td>2019-11-19</td>\n",
              "      <td>0.932634</td>\n",
              "      <td>0.290650</td>\n",
              "      <td>-0.171409</td>\n",
              "      <td>-6.9375</td>\n",
              "      <td>20.5625</td>\n",
              "      <td>-7.6875</td>\n",
              "    </tr>\n",
              "    <tr>\n",
              "      <th>...</th>\n",
              "      <td>...</td>\n",
              "      <td>...</td>\n",
              "      <td>...</td>\n",
              "      <td>...</td>\n",
              "      <td>...</td>\n",
              "      <td>...</td>\n",
              "      <td>...</td>\n",
              "      <td>...</td>\n",
              "      <td>...</td>\n",
              "      <td>...</td>\n",
              "      <td>...</td>\n",
              "      <td>...</td>\n",
              "      <td>...</td>\n",
              "    </tr>\n",
              "    <tr>\n",
              "      <th>67458</th>\n",
              "      <td>07:54:03</td>\n",
              "      <td>_hfvz81iog</td>\n",
              "      <td>Car</td>\n",
              "      <td>-4.480107</td>\n",
              "      <td>2.629514</td>\n",
              "      <td>7.966649</td>\n",
              "      <td>2019-11-25</td>\n",
              "      <td>0.044715</td>\n",
              "      <td>-0.061750</td>\n",
              "      <td>0.047909</td>\n",
              "      <td>-422.3750</td>\n",
              "      <td>-443.3750</td>\n",
              "      <td>419.6875</td>\n",
              "    </tr>\n",
              "    <tr>\n",
              "      <th>67459</th>\n",
              "      <td>07:54:04</td>\n",
              "      <td>_hfvz81iog</td>\n",
              "      <td>Car</td>\n",
              "      <td>-4.223745</td>\n",
              "      <td>2.347103</td>\n",
              "      <td>8.682439</td>\n",
              "      <td>2019-11-25</td>\n",
              "      <td>-0.002129</td>\n",
              "      <td>-0.037263</td>\n",
              "      <td>0.001065</td>\n",
              "      <td>-423.7500</td>\n",
              "      <td>-445.5000</td>\n",
              "      <td>418.3750</td>\n",
              "    </tr>\n",
              "    <tr>\n",
              "      <th>67460</th>\n",
              "      <td>07:54:05</td>\n",
              "      <td>_hfvz81iog</td>\n",
              "      <td>Car</td>\n",
              "      <td>-4.144229</td>\n",
              "      <td>2.525931</td>\n",
              "      <td>8.265186</td>\n",
              "      <td>2019-11-25</td>\n",
              "      <td>0.027681</td>\n",
              "      <td>0.007453</td>\n",
              "      <td>0.013840</td>\n",
              "      <td>-424.4375</td>\n",
              "      <td>-442.1250</td>\n",
              "      <td>418.8750</td>\n",
              "    </tr>\n",
              "    <tr>\n",
              "      <th>67461</th>\n",
              "      <td>07:54:06</td>\n",
              "      <td>_hfvz81iog</td>\n",
              "      <td>Car</td>\n",
              "      <td>-4.653495</td>\n",
              "      <td>1.840135</td>\n",
              "      <td>8.135546</td>\n",
              "      <td>2019-11-25</td>\n",
              "      <td>0.004259</td>\n",
              "      <td>-0.011711</td>\n",
              "      <td>0.006388</td>\n",
              "      <td>-425.1250</td>\n",
              "      <td>-449.0000</td>\n",
              "      <td>420.0625</td>\n",
              "    </tr>\n",
              "    <tr>\n",
              "      <th>67462</th>\n",
              "      <td>07:54:07</td>\n",
              "      <td>_hfvz81iog</td>\n",
              "      <td>Car</td>\n",
              "      <td>-4.689963</td>\n",
              "      <td>2.226301</td>\n",
              "      <td>7.571836</td>\n",
              "      <td>2019-11-25</td>\n",
              "      <td>-0.036198</td>\n",
              "      <td>-0.046845</td>\n",
              "      <td>-0.039392</td>\n",
              "      <td>-427.7500</td>\n",
              "      <td>-452.3750</td>\n",
              "      <td>421.1250</td>\n",
              "    </tr>\n",
              "  </tbody>\n",
              "</table>\n",
              "<p>67463 rows × 13 columns</p>\n",
              "</div>"
            ],
            "text/plain": [
              "      waypoint_timeStart   JourneyID  Mode  ...     mag_X     mag_Y     mag_Z\n",
              "0               00:17:48  _or9hxk29h  Idle  ...  -45.3125   18.3125    2.3125\n",
              "1               00:17:49  _or9hxk29h  Idle  ...  -31.1250   27.7500   -2.1250\n",
              "2               00:17:50  _or9hxk29h  Idle  ...  -18.2500   24.3125   -6.2500\n",
              "3               00:17:51  _or9hxk29h  Idle  ...  -15.1250   17.8750   -4.3125\n",
              "4               00:17:52  _or9hxk29h  Idle  ...   -6.9375   20.5625   -7.6875\n",
              "...                  ...         ...   ...  ...       ...       ...       ...\n",
              "67458           07:54:03  _hfvz81iog   Car  ... -422.3750 -443.3750  419.6875\n",
              "67459           07:54:04  _hfvz81iog   Car  ... -423.7500 -445.5000  418.3750\n",
              "67460           07:54:05  _hfvz81iog   Car  ... -424.4375 -442.1250  418.8750\n",
              "67461           07:54:06  _hfvz81iog   Car  ... -425.1250 -449.0000  420.0625\n",
              "67462           07:54:07  _hfvz81iog   Car  ... -427.7500 -452.3750  421.1250\n",
              "\n",
              "[67463 rows x 13 columns]"
            ]
          },
          "metadata": {
            "tags": []
          },
          "execution_count": 127
        }
      ]
    },
    {
      "cell_type": "markdown",
      "metadata": {
        "id": "aU0x-WSbX9XR",
        "colab_type": "text"
      },
      "source": [
        "Rearrange the columns"
      ]
    },
    {
      "cell_type": "code",
      "metadata": {
        "id": "52KYzCr0X3NO",
        "colab_type": "code",
        "colab": {}
      },
      "source": [
        "acc_gyro_mag = acc_gyro_mag[['waypoint_timeStart', 'date_Start', 'JourneyID', 'Mode', \n",
        "                             'acc_X', 'acc_Y', 'acc_Z',\n",
        "                             'gyro_X', 'gyro_Y', 'gyro_Z',\n",
        "                             'mag_X', 'mag_Y', 'mag_Z']]"
      ],
      "execution_count": 0,
      "outputs": []
    },
    {
      "cell_type": "code",
      "metadata": {
        "id": "RAuxN5qVX3ZJ",
        "colab_type": "code",
        "outputId": "ace5ab63-dd41-4550-d368-b3ad718c9de1",
        "colab": {
          "base_uri": "https://localhost:8080/",
          "height": 422
        }
      },
      "source": [
        "acc_gyro_mag"
      ],
      "execution_count": 0,
      "outputs": [
        {
          "output_type": "execute_result",
          "data": {
            "text/html": [
              "<div>\n",
              "<style scoped>\n",
              "    .dataframe tbody tr th:only-of-type {\n",
              "        vertical-align: middle;\n",
              "    }\n",
              "\n",
              "    .dataframe tbody tr th {\n",
              "        vertical-align: top;\n",
              "    }\n",
              "\n",
              "    .dataframe thead th {\n",
              "        text-align: right;\n",
              "    }\n",
              "</style>\n",
              "<table border=\"1\" class=\"dataframe\">\n",
              "  <thead>\n",
              "    <tr style=\"text-align: right;\">\n",
              "      <th></th>\n",
              "      <th>waypoint_timeStart</th>\n",
              "      <th>date_Start</th>\n",
              "      <th>JourneyID</th>\n",
              "      <th>Mode</th>\n",
              "      <th>acc_X</th>\n",
              "      <th>acc_Y</th>\n",
              "      <th>acc_Z</th>\n",
              "      <th>gyro_X</th>\n",
              "      <th>gyro_Y</th>\n",
              "      <th>gyro_Z</th>\n",
              "      <th>mag_X</th>\n",
              "      <th>mag_Y</th>\n",
              "      <th>mag_Z</th>\n",
              "    </tr>\n",
              "  </thead>\n",
              "  <tbody>\n",
              "    <tr>\n",
              "      <th>0</th>\n",
              "      <td>00:17:48</td>\n",
              "      <td>2019-11-19</td>\n",
              "      <td>_or9hxk29h</td>\n",
              "      <td>Idle</td>\n",
              "      <td>-0.101370</td>\n",
              "      <td>4.078714</td>\n",
              "      <td>9.324755</td>\n",
              "      <td>-0.074526</td>\n",
              "      <td>0.357723</td>\n",
              "      <td>0.560006</td>\n",
              "      <td>-45.3125</td>\n",
              "      <td>18.3125</td>\n",
              "      <td>2.3125</td>\n",
              "    </tr>\n",
              "    <tr>\n",
              "      <th>1</th>\n",
              "      <td>00:17:49</td>\n",
              "      <td>2019-11-19</td>\n",
              "      <td>_or9hxk29h</td>\n",
              "      <td>Idle</td>\n",
              "      <td>0.168676</td>\n",
              "      <td>0.638103</td>\n",
              "      <td>10.021468</td>\n",
              "      <td>0.502515</td>\n",
              "      <td>-0.534455</td>\n",
              "      <td>0.239546</td>\n",
              "      <td>-31.1250</td>\n",
              "      <td>27.7500</td>\n",
              "      <td>-2.1250</td>\n",
              "    </tr>\n",
              "    <tr>\n",
              "      <th>2</th>\n",
              "      <td>00:17:50</td>\n",
              "      <td>2019-11-19</td>\n",
              "      <td>_or9hxk29h</td>\n",
              "      <td>Idle</td>\n",
              "      <td>3.005135</td>\n",
              "      <td>2.451950</td>\n",
              "      <td>13.441220</td>\n",
              "      <td>0.051103</td>\n",
              "      <td>0.033004</td>\n",
              "      <td>0.281068</td>\n",
              "      <td>-18.2500</td>\n",
              "      <td>24.3125</td>\n",
              "      <td>-6.2500</td>\n",
              "    </tr>\n",
              "    <tr>\n",
              "      <th>3</th>\n",
              "      <td>00:17:51</td>\n",
              "      <td>2019-11-19</td>\n",
              "      <td>_or9hxk29h</td>\n",
              "      <td>Idle</td>\n",
              "      <td>4.065824</td>\n",
              "      <td>3.711961</td>\n",
              "      <td>12.759917</td>\n",
              "      <td>1.049746</td>\n",
              "      <td>0.489739</td>\n",
              "      <td>0.331106</td>\n",
              "      <td>-15.1250</td>\n",
              "      <td>17.8750</td>\n",
              "      <td>-4.3125</td>\n",
              "    </tr>\n",
              "    <tr>\n",
              "      <th>4</th>\n",
              "      <td>00:17:52</td>\n",
              "      <td>2019-11-19</td>\n",
              "      <td>_or9hxk29h</td>\n",
              "      <td>Idle</td>\n",
              "      <td>4.574572</td>\n",
              "      <td>2.166216</td>\n",
              "      <td>16.789330</td>\n",
              "      <td>0.932634</td>\n",
              "      <td>0.290650</td>\n",
              "      <td>-0.171409</td>\n",
              "      <td>-6.9375</td>\n",
              "      <td>20.5625</td>\n",
              "      <td>-7.6875</td>\n",
              "    </tr>\n",
              "    <tr>\n",
              "      <th>...</th>\n",
              "      <td>...</td>\n",
              "      <td>...</td>\n",
              "      <td>...</td>\n",
              "      <td>...</td>\n",
              "      <td>...</td>\n",
              "      <td>...</td>\n",
              "      <td>...</td>\n",
              "      <td>...</td>\n",
              "      <td>...</td>\n",
              "      <td>...</td>\n",
              "      <td>...</td>\n",
              "      <td>...</td>\n",
              "      <td>...</td>\n",
              "    </tr>\n",
              "    <tr>\n",
              "      <th>67458</th>\n",
              "      <td>07:54:03</td>\n",
              "      <td>2019-11-25</td>\n",
              "      <td>_hfvz81iog</td>\n",
              "      <td>Car</td>\n",
              "      <td>-4.480107</td>\n",
              "      <td>2.629514</td>\n",
              "      <td>7.966649</td>\n",
              "      <td>0.044715</td>\n",
              "      <td>-0.061750</td>\n",
              "      <td>0.047909</td>\n",
              "      <td>-422.3750</td>\n",
              "      <td>-443.3750</td>\n",
              "      <td>419.6875</td>\n",
              "    </tr>\n",
              "    <tr>\n",
              "      <th>67459</th>\n",
              "      <td>07:54:04</td>\n",
              "      <td>2019-11-25</td>\n",
              "      <td>_hfvz81iog</td>\n",
              "      <td>Car</td>\n",
              "      <td>-4.223745</td>\n",
              "      <td>2.347103</td>\n",
              "      <td>8.682439</td>\n",
              "      <td>-0.002129</td>\n",
              "      <td>-0.037263</td>\n",
              "      <td>0.001065</td>\n",
              "      <td>-423.7500</td>\n",
              "      <td>-445.5000</td>\n",
              "      <td>418.3750</td>\n",
              "    </tr>\n",
              "    <tr>\n",
              "      <th>67460</th>\n",
              "      <td>07:54:05</td>\n",
              "      <td>2019-11-25</td>\n",
              "      <td>_hfvz81iog</td>\n",
              "      <td>Car</td>\n",
              "      <td>-4.144229</td>\n",
              "      <td>2.525931</td>\n",
              "      <td>8.265186</td>\n",
              "      <td>0.027681</td>\n",
              "      <td>0.007453</td>\n",
              "      <td>0.013840</td>\n",
              "      <td>-424.4375</td>\n",
              "      <td>-442.1250</td>\n",
              "      <td>418.8750</td>\n",
              "    </tr>\n",
              "    <tr>\n",
              "      <th>67461</th>\n",
              "      <td>07:54:06</td>\n",
              "      <td>2019-11-25</td>\n",
              "      <td>_hfvz81iog</td>\n",
              "      <td>Car</td>\n",
              "      <td>-4.653495</td>\n",
              "      <td>1.840135</td>\n",
              "      <td>8.135546</td>\n",
              "      <td>0.004259</td>\n",
              "      <td>-0.011711</td>\n",
              "      <td>0.006388</td>\n",
              "      <td>-425.1250</td>\n",
              "      <td>-449.0000</td>\n",
              "      <td>420.0625</td>\n",
              "    </tr>\n",
              "    <tr>\n",
              "      <th>67462</th>\n",
              "      <td>07:54:07</td>\n",
              "      <td>2019-11-25</td>\n",
              "      <td>_hfvz81iog</td>\n",
              "      <td>Car</td>\n",
              "      <td>-4.689963</td>\n",
              "      <td>2.226301</td>\n",
              "      <td>7.571836</td>\n",
              "      <td>-0.036198</td>\n",
              "      <td>-0.046845</td>\n",
              "      <td>-0.039392</td>\n",
              "      <td>-427.7500</td>\n",
              "      <td>-452.3750</td>\n",
              "      <td>421.1250</td>\n",
              "    </tr>\n",
              "  </tbody>\n",
              "</table>\n",
              "<p>67463 rows × 13 columns</p>\n",
              "</div>"
            ],
            "text/plain": [
              "      waypoint_timeStart  date_Start   JourneyID  ...     mag_X     mag_Y     mag_Z\n",
              "0               00:17:48  2019-11-19  _or9hxk29h  ...  -45.3125   18.3125    2.3125\n",
              "1               00:17:49  2019-11-19  _or9hxk29h  ...  -31.1250   27.7500   -2.1250\n",
              "2               00:17:50  2019-11-19  _or9hxk29h  ...  -18.2500   24.3125   -6.2500\n",
              "3               00:17:51  2019-11-19  _or9hxk29h  ...  -15.1250   17.8750   -4.3125\n",
              "4               00:17:52  2019-11-19  _or9hxk29h  ...   -6.9375   20.5625   -7.6875\n",
              "...                  ...         ...         ...  ...       ...       ...       ...\n",
              "67458           07:54:03  2019-11-25  _hfvz81iog  ... -422.3750 -443.3750  419.6875\n",
              "67459           07:54:04  2019-11-25  _hfvz81iog  ... -423.7500 -445.5000  418.3750\n",
              "67460           07:54:05  2019-11-25  _hfvz81iog  ... -424.4375 -442.1250  418.8750\n",
              "67461           07:54:06  2019-11-25  _hfvz81iog  ... -425.1250 -449.0000  420.0625\n",
              "67462           07:54:07  2019-11-25  _hfvz81iog  ... -427.7500 -452.3750  421.1250\n",
              "\n",
              "[67463 rows x 13 columns]"
            ]
          },
          "metadata": {
            "tags": []
          },
          "execution_count": 129
        }
      ]
    },
    {
      "cell_type": "markdown",
      "metadata": {
        "id": "9EnUl21hY7aO",
        "colab_type": "text"
      },
      "source": [
        "Save the merged dataframe with accelerometer, gyroscope, magnometer X, Y, Z orientation"
      ]
    },
    {
      "cell_type": "code",
      "metadata": {
        "id": "zzdaJ9r-Y7hq",
        "colab_type": "code",
        "colab": {}
      },
      "source": [
        "acc_gyro_mag.to_excel(\"acc_gyro_mag.xlsx\")"
      ],
      "execution_count": 0,
      "outputs": []
    }
  ]
}
